{
 "cells": [
  {
   "cell_type": "code",
   "execution_count": 1,
   "id": "c43be92b",
   "metadata": {},
   "outputs": [],
   "source": [
    "# general imports\n",
    "import pandas as pd\n",
    "import numpy as np\n",
    "import matplotlib.pyplot as plt\n",
    "from numpy import mean\n",
    "from numpy import std\n",
    "import seaborn as sns\n",
    "import warnings\n",
    "warnings.filterwarnings(\"ignore\")\n",
    "from sklearn.preprocessing import LabelEncoder\n",
    "from sklearn.preprocessing import StandardScaler\n",
    "from sklearn import preprocessing\n",
    "from sklearn.preprocessing import MinMaxScaler, StandardScaler\n",
    "from sklearn.model_selection import train_test_split\n",
    "#splitting imports\n",
    "from sklearn.model_selection import train_test_split\n",
    "from sklearn.model_selection import RepeatedStratifiedKFold\n",
    "from sklearn.model_selection import StratifiedKFold\n",
    "from sklearn.model_selection import KFold\n",
    "from sklearn.model_selection import GridSearchCV\n",
    "#model imports\n",
    "from sklearn.naive_bayes import GaussianNB \n",
    "from sklearn.linear_model import LinearRegression\n",
    "from sklearn.ensemble import RandomForestRegressor\n",
    "from sklearn.ensemble import AdaBoostRegressor\n",
    "from sklearn.neighbors import KNeighborsRegressor\n",
    "from sklearn.tree import DecisionTreeRegressor\n",
    "from sklearn.svm import SVR\n",
    "from sklearn.ensemble import StackingRegressor\n",
    "#evaluation imports\n",
    "from sklearn.model_selection import cross_val_score\n",
    "from sklearn.model_selection import cross_validate\n",
    "from sklearn.metrics import accuracy_score"
   ]
  },
  {
   "cell_type": "code",
   "execution_count": 2,
   "id": "6a0a80bb",
   "metadata": {},
   "outputs": [
    {
     "data": {
      "text/html": [
       "<div>\n",
       "<style scoped>\n",
       "    .dataframe tbody tr th:only-of-type {\n",
       "        vertical-align: middle;\n",
       "    }\n",
       "\n",
       "    .dataframe tbody tr th {\n",
       "        vertical-align: top;\n",
       "    }\n",
       "\n",
       "    .dataframe thead th {\n",
       "        text-align: right;\n",
       "    }\n",
       "</style>\n",
       "<table border=\"1\" class=\"dataframe\">\n",
       "  <thead>\n",
       "    <tr style=\"text-align: right;\">\n",
       "      <th></th>\n",
       "      <th>Item_Identifier</th>\n",
       "      <th>Item_Weight</th>\n",
       "      <th>Item_Fat_Content</th>\n",
       "      <th>Item_Visibility</th>\n",
       "      <th>Item_Type</th>\n",
       "      <th>Item_MRP</th>\n",
       "      <th>Outlet_Identifier</th>\n",
       "      <th>Outlet_Establishment_Year</th>\n",
       "      <th>Outlet_Size</th>\n",
       "      <th>Outlet_Location_Type</th>\n",
       "      <th>Outlet_Type</th>\n",
       "      <th>Item_Outlet_Sales</th>\n",
       "    </tr>\n",
       "  </thead>\n",
       "  <tbody>\n",
       "    <tr>\n",
       "      <th>0</th>\n",
       "      <td>FDA15</td>\n",
       "      <td>9.30</td>\n",
       "      <td>Low Fat</td>\n",
       "      <td>0.016047</td>\n",
       "      <td>Dairy</td>\n",
       "      <td>249.8092</td>\n",
       "      <td>OUT049</td>\n",
       "      <td>1999</td>\n",
       "      <td>Medium</td>\n",
       "      <td>Tier 1</td>\n",
       "      <td>Supermarket Type1</td>\n",
       "      <td>3735.1380</td>\n",
       "    </tr>\n",
       "    <tr>\n",
       "      <th>1</th>\n",
       "      <td>DRC01</td>\n",
       "      <td>5.92</td>\n",
       "      <td>Regular</td>\n",
       "      <td>0.019278</td>\n",
       "      <td>Soft Drinks</td>\n",
       "      <td>48.2692</td>\n",
       "      <td>OUT018</td>\n",
       "      <td>2009</td>\n",
       "      <td>Medium</td>\n",
       "      <td>Tier 3</td>\n",
       "      <td>Supermarket Type2</td>\n",
       "      <td>443.4228</td>\n",
       "    </tr>\n",
       "    <tr>\n",
       "      <th>2</th>\n",
       "      <td>FDN15</td>\n",
       "      <td>17.50</td>\n",
       "      <td>Low Fat</td>\n",
       "      <td>0.016760</td>\n",
       "      <td>Meat</td>\n",
       "      <td>141.6180</td>\n",
       "      <td>OUT049</td>\n",
       "      <td>1999</td>\n",
       "      <td>Medium</td>\n",
       "      <td>Tier 1</td>\n",
       "      <td>Supermarket Type1</td>\n",
       "      <td>2097.2700</td>\n",
       "    </tr>\n",
       "    <tr>\n",
       "      <th>3</th>\n",
       "      <td>FDX07</td>\n",
       "      <td>19.20</td>\n",
       "      <td>Regular</td>\n",
       "      <td>0.074402</td>\n",
       "      <td>Fruits and Vegetables</td>\n",
       "      <td>182.0950</td>\n",
       "      <td>OUT010</td>\n",
       "      <td>1998</td>\n",
       "      <td>Medium</td>\n",
       "      <td>Tier 3</td>\n",
       "      <td>Grocery Store</td>\n",
       "      <td>732.3800</td>\n",
       "    </tr>\n",
       "    <tr>\n",
       "      <th>4</th>\n",
       "      <td>NCD19</td>\n",
       "      <td>8.93</td>\n",
       "      <td>Low Fat</td>\n",
       "      <td>0.064299</td>\n",
       "      <td>Household</td>\n",
       "      <td>53.8614</td>\n",
       "      <td>OUT013</td>\n",
       "      <td>1987</td>\n",
       "      <td>High</td>\n",
       "      <td>Tier 3</td>\n",
       "      <td>Supermarket Type1</td>\n",
       "      <td>994.7052</td>\n",
       "    </tr>\n",
       "    <tr>\n",
       "      <th>...</th>\n",
       "      <td>...</td>\n",
       "      <td>...</td>\n",
       "      <td>...</td>\n",
       "      <td>...</td>\n",
       "      <td>...</td>\n",
       "      <td>...</td>\n",
       "      <td>...</td>\n",
       "      <td>...</td>\n",
       "      <td>...</td>\n",
       "      <td>...</td>\n",
       "      <td>...</td>\n",
       "      <td>...</td>\n",
       "    </tr>\n",
       "    <tr>\n",
       "      <th>14199</th>\n",
       "      <td>FDB58</td>\n",
       "      <td>10.50</td>\n",
       "      <td>Regular</td>\n",
       "      <td>0.013496</td>\n",
       "      <td>Snack Foods</td>\n",
       "      <td>141.3154</td>\n",
       "      <td>OUT046</td>\n",
       "      <td>1997</td>\n",
       "      <td>Small</td>\n",
       "      <td>Tier 1</td>\n",
       "      <td>Supermarket Type1</td>\n",
       "      <td>NaN</td>\n",
       "    </tr>\n",
       "    <tr>\n",
       "      <th>14200</th>\n",
       "      <td>FDD47</td>\n",
       "      <td>7.60</td>\n",
       "      <td>Regular</td>\n",
       "      <td>0.142991</td>\n",
       "      <td>Starchy Foods</td>\n",
       "      <td>169.1448</td>\n",
       "      <td>OUT018</td>\n",
       "      <td>2009</td>\n",
       "      <td>Medium</td>\n",
       "      <td>Tier 3</td>\n",
       "      <td>Supermarket Type2</td>\n",
       "      <td>NaN</td>\n",
       "    </tr>\n",
       "    <tr>\n",
       "      <th>14201</th>\n",
       "      <td>NCO17</td>\n",
       "      <td>10.00</td>\n",
       "      <td>Low Fat</td>\n",
       "      <td>0.073529</td>\n",
       "      <td>Health and Hygiene</td>\n",
       "      <td>118.7440</td>\n",
       "      <td>OUT045</td>\n",
       "      <td>2002</td>\n",
       "      <td>Small</td>\n",
       "      <td>Tier 2</td>\n",
       "      <td>Supermarket Type1</td>\n",
       "      <td>NaN</td>\n",
       "    </tr>\n",
       "    <tr>\n",
       "      <th>14202</th>\n",
       "      <td>FDJ26</td>\n",
       "      <td>15.30</td>\n",
       "      <td>Regular</td>\n",
       "      <td>0.064709</td>\n",
       "      <td>Canned</td>\n",
       "      <td>214.6218</td>\n",
       "      <td>OUT017</td>\n",
       "      <td>2007</td>\n",
       "      <td>Small</td>\n",
       "      <td>Tier 2</td>\n",
       "      <td>Supermarket Type1</td>\n",
       "      <td>NaN</td>\n",
       "    </tr>\n",
       "    <tr>\n",
       "      <th>14203</th>\n",
       "      <td>FDU37</td>\n",
       "      <td>9.50</td>\n",
       "      <td>Regular</td>\n",
       "      <td>0.104720</td>\n",
       "      <td>Canned</td>\n",
       "      <td>79.7960</td>\n",
       "      <td>OUT045</td>\n",
       "      <td>2002</td>\n",
       "      <td>Small</td>\n",
       "      <td>Tier 2</td>\n",
       "      <td>Supermarket Type1</td>\n",
       "      <td>NaN</td>\n",
       "    </tr>\n",
       "  </tbody>\n",
       "</table>\n",
       "<p>14204 rows × 12 columns</p>\n",
       "</div>"
      ],
      "text/plain": [
       "      Item_Identifier  Item_Weight Item_Fat_Content  Item_Visibility  \\\n",
       "0               FDA15         9.30          Low Fat         0.016047   \n",
       "1               DRC01         5.92          Regular         0.019278   \n",
       "2               FDN15        17.50          Low Fat         0.016760   \n",
       "3               FDX07        19.20          Regular         0.074402   \n",
       "4               NCD19         8.93          Low Fat         0.064299   \n",
       "...               ...          ...              ...              ...   \n",
       "14199           FDB58        10.50          Regular         0.013496   \n",
       "14200           FDD47         7.60          Regular         0.142991   \n",
       "14201           NCO17        10.00          Low Fat         0.073529   \n",
       "14202           FDJ26        15.30          Regular         0.064709   \n",
       "14203           FDU37         9.50          Regular         0.104720   \n",
       "\n",
       "                   Item_Type  Item_MRP Outlet_Identifier  \\\n",
       "0                      Dairy  249.8092            OUT049   \n",
       "1                Soft Drinks   48.2692            OUT018   \n",
       "2                       Meat  141.6180            OUT049   \n",
       "3      Fruits and Vegetables  182.0950            OUT010   \n",
       "4                  Household   53.8614            OUT013   \n",
       "...                      ...       ...               ...   \n",
       "14199            Snack Foods  141.3154            OUT046   \n",
       "14200          Starchy Foods  169.1448            OUT018   \n",
       "14201     Health and Hygiene  118.7440            OUT045   \n",
       "14202                 Canned  214.6218            OUT017   \n",
       "14203                 Canned   79.7960            OUT045   \n",
       "\n",
       "       Outlet_Establishment_Year Outlet_Size Outlet_Location_Type  \\\n",
       "0                           1999      Medium               Tier 1   \n",
       "1                           2009      Medium               Tier 3   \n",
       "2                           1999      Medium               Tier 1   \n",
       "3                           1998      Medium               Tier 3   \n",
       "4                           1987        High               Tier 3   \n",
       "...                          ...         ...                  ...   \n",
       "14199                       1997       Small               Tier 1   \n",
       "14200                       2009      Medium               Tier 3   \n",
       "14201                       2002       Small               Tier 2   \n",
       "14202                       2007       Small               Tier 2   \n",
       "14203                       2002       Small               Tier 2   \n",
       "\n",
       "             Outlet_Type  Item_Outlet_Sales  \n",
       "0      Supermarket Type1          3735.1380  \n",
       "1      Supermarket Type2           443.4228  \n",
       "2      Supermarket Type1          2097.2700  \n",
       "3          Grocery Store           732.3800  \n",
       "4      Supermarket Type1           994.7052  \n",
       "...                  ...                ...  \n",
       "14199  Supermarket Type1                NaN  \n",
       "14200  Supermarket Type2                NaN  \n",
       "14201  Supermarket Type1                NaN  \n",
       "14202  Supermarket Type1                NaN  \n",
       "14203  Supermarket Type1                NaN  \n",
       "\n",
       "[14204 rows x 12 columns]"
      ]
     },
     "execution_count": 2,
     "metadata": {},
     "output_type": "execute_result"
    }
   ],
   "source": [
    "data=pd.read_csv('DS3_C6_S1_Regression_StoreSales_Data_Project.csv')\n",
    "data"
   ]
  },
  {
   "cell_type": "code",
   "execution_count": 3,
   "id": "d55ab662",
   "metadata": {},
   "outputs": [
    {
     "data": {
      "text/plain": [
       "(14204, 12)"
      ]
     },
     "execution_count": 3,
     "metadata": {},
     "output_type": "execute_result"
    }
   ],
   "source": [
    "data.shape"
   ]
  },
  {
   "cell_type": "code",
   "execution_count": 4,
   "id": "e08cba25",
   "metadata": {},
   "outputs": [
    {
     "data": {
      "text/html": [
       "<div>\n",
       "<style scoped>\n",
       "    .dataframe tbody tr th:only-of-type {\n",
       "        vertical-align: middle;\n",
       "    }\n",
       "\n",
       "    .dataframe tbody tr th {\n",
       "        vertical-align: top;\n",
       "    }\n",
       "\n",
       "    .dataframe thead th {\n",
       "        text-align: right;\n",
       "    }\n",
       "</style>\n",
       "<table border=\"1\" class=\"dataframe\">\n",
       "  <thead>\n",
       "    <tr style=\"text-align: right;\">\n",
       "      <th></th>\n",
       "      <th>Item_Weight</th>\n",
       "      <th>Item_Visibility</th>\n",
       "      <th>Item_MRP</th>\n",
       "      <th>Outlet_Establishment_Year</th>\n",
       "      <th>Item_Outlet_Sales</th>\n",
       "    </tr>\n",
       "  </thead>\n",
       "  <tbody>\n",
       "    <tr>\n",
       "      <th>count</th>\n",
       "      <td>14204.000000</td>\n",
       "      <td>14204.000000</td>\n",
       "      <td>14204.000000</td>\n",
       "      <td>14204.000000</td>\n",
       "      <td>8523.000000</td>\n",
       "    </tr>\n",
       "    <tr>\n",
       "      <th>mean</th>\n",
       "      <td>12.793380</td>\n",
       "      <td>0.070301</td>\n",
       "      <td>141.004977</td>\n",
       "      <td>1997.830681</td>\n",
       "      <td>2181.288914</td>\n",
       "    </tr>\n",
       "    <tr>\n",
       "      <th>std</th>\n",
       "      <td>4.651716</td>\n",
       "      <td>0.048621</td>\n",
       "      <td>62.086938</td>\n",
       "      <td>8.371664</td>\n",
       "      <td>1706.499616</td>\n",
       "    </tr>\n",
       "    <tr>\n",
       "      <th>min</th>\n",
       "      <td>4.555000</td>\n",
       "      <td>0.003575</td>\n",
       "      <td>31.290000</td>\n",
       "      <td>1985.000000</td>\n",
       "      <td>33.290000</td>\n",
       "    </tr>\n",
       "    <tr>\n",
       "      <th>25%</th>\n",
       "      <td>8.710000</td>\n",
       "      <td>0.033143</td>\n",
       "      <td>94.012000</td>\n",
       "      <td>1987.000000</td>\n",
       "      <td>834.247400</td>\n",
       "    </tr>\n",
       "    <tr>\n",
       "      <th>50%</th>\n",
       "      <td>12.600000</td>\n",
       "      <td>0.062347</td>\n",
       "      <td>142.247000</td>\n",
       "      <td>1999.000000</td>\n",
       "      <td>1794.331000</td>\n",
       "    </tr>\n",
       "    <tr>\n",
       "      <th>75%</th>\n",
       "      <td>16.750000</td>\n",
       "      <td>0.094037</td>\n",
       "      <td>185.855600</td>\n",
       "      <td>2004.000000</td>\n",
       "      <td>3101.296400</td>\n",
       "    </tr>\n",
       "    <tr>\n",
       "      <th>max</th>\n",
       "      <td>21.350000</td>\n",
       "      <td>0.328391</td>\n",
       "      <td>266.888400</td>\n",
       "      <td>2009.000000</td>\n",
       "      <td>13086.964800</td>\n",
       "    </tr>\n",
       "  </tbody>\n",
       "</table>\n",
       "</div>"
      ],
      "text/plain": [
       "        Item_Weight  Item_Visibility      Item_MRP  Outlet_Establishment_Year  \\\n",
       "count  14204.000000     14204.000000  14204.000000               14204.000000   \n",
       "mean      12.793380         0.070301    141.004977                1997.830681   \n",
       "std        4.651716         0.048621     62.086938                   8.371664   \n",
       "min        4.555000         0.003575     31.290000                1985.000000   \n",
       "25%        8.710000         0.033143     94.012000                1987.000000   \n",
       "50%       12.600000         0.062347    142.247000                1999.000000   \n",
       "75%       16.750000         0.094037    185.855600                2004.000000   \n",
       "max       21.350000         0.328391    266.888400                2009.000000   \n",
       "\n",
       "       Item_Outlet_Sales  \n",
       "count        8523.000000  \n",
       "mean         2181.288914  \n",
       "std          1706.499616  \n",
       "min            33.290000  \n",
       "25%           834.247400  \n",
       "50%          1794.331000  \n",
       "75%          3101.296400  \n",
       "max         13086.964800  "
      ]
     },
     "execution_count": 4,
     "metadata": {},
     "output_type": "execute_result"
    }
   ],
   "source": [
    "data.describe()"
   ]
  },
  {
   "cell_type": "code",
   "execution_count": 5,
   "id": "c67980af",
   "metadata": {},
   "outputs": [
    {
     "data": {
      "text/plain": [
       "Item_Identifier               object\n",
       "Item_Weight                  float64\n",
       "Item_Fat_Content              object\n",
       "Item_Visibility              float64\n",
       "Item_Type                     object\n",
       "Item_MRP                     float64\n",
       "Outlet_Identifier             object\n",
       "Outlet_Establishment_Year      int64\n",
       "Outlet_Size                   object\n",
       "Outlet_Location_Type          object\n",
       "Outlet_Type                   object\n",
       "Item_Outlet_Sales            float64\n",
       "dtype: object"
      ]
     },
     "execution_count": 5,
     "metadata": {},
     "output_type": "execute_result"
    }
   ],
   "source": [
    "data.dtypes"
   ]
  },
  {
   "cell_type": "code",
   "execution_count": 6,
   "id": "1e594573",
   "metadata": {},
   "outputs": [
    {
     "data": {
      "text/plain": [
       "Item_Identifier                 0\n",
       "Item_Weight                     0\n",
       "Item_Fat_Content                0\n",
       "Item_Visibility                 0\n",
       "Item_Type                       0\n",
       "Item_MRP                        0\n",
       "Outlet_Identifier               0\n",
       "Outlet_Establishment_Year       0\n",
       "Outlet_Size                     0\n",
       "Outlet_Location_Type            0\n",
       "Outlet_Type                     0\n",
       "Item_Outlet_Sales            5681\n",
       "dtype: int64"
      ]
     },
     "execution_count": 6,
     "metadata": {},
     "output_type": "execute_result"
    }
   ],
   "source": [
    "data.isnull().sum()"
   ]
  },
  {
   "cell_type": "code",
   "execution_count": 7,
   "id": "dca17013",
   "metadata": {},
   "outputs": [
    {
     "data": {
      "text/plain": [
       "Item_Identifier              0\n",
       "Item_Weight                  0\n",
       "Item_Fat_Content             0\n",
       "Item_Visibility              0\n",
       "Item_Type                    0\n",
       "Item_MRP                     0\n",
       "Outlet_Identifier            0\n",
       "Outlet_Establishment_Year    0\n",
       "Outlet_Size                  0\n",
       "Outlet_Location_Type         0\n",
       "Outlet_Type                  0\n",
       "Item_Outlet_Sales            0\n",
       "dtype: int64"
      ]
     },
     "execution_count": 7,
     "metadata": {},
     "output_type": "execute_result"
    }
   ],
   "source": [
    "data=data.dropna()\n",
    "data.isnull().sum()"
   ]
  },
  {
   "cell_type": "code",
   "execution_count": 9,
   "id": "14117e2f",
   "metadata": {},
   "outputs": [
    {
     "data": {
      "image/png": "[encoded data removed]",
      "text/plain": [
       "<Figure size 864x576 with 1 Axes>"
      ]
     },
     "metadata": {
      "needs_background": "light"
     },
     "output_type": "display_data"
    }
   ],
   "source": [
    "#which location type has the highest number of sales?\n",
    "sale=data.groupby('Outlet_Location_Type').sum()['Item_Outlet_Sales'] #Y-values\n",
    "tiers=[tier for tier, data in data.groupby('Outlet_Location_Type')] #X-values\n",
    "\n",
    "# Plot\n",
    "f=plt.figure()\n",
    "f.set_figwidth(12)\n",
    "f.set_figheight(8)\n",
    "plt.bar(tiers,sale,color='red',alpha=.6)\n",
    "plt.xlabel('Tiers')\n",
    "plt.ylabel('Sales')\n",
    "plt.title('Highest Sale per Tier')\n",
    "plt.show()"
   ]
  },
  {
   "cell_type": "code",
   "execution_count": 10,
   "id": "d7a8797d",
   "metadata": {},
   "outputs": [
    {
     "name": "stdout",
     "output_type": "stream",
     "text": [
      "Tier 3 has the highest number of sale of 7636752.632$\n"
     ]
    }
   ],
   "source": [
    "sale=data.groupby('Outlet_Location_Type').sum()['Item_Outlet_Sales']\n",
    "print('Tier 3 has the highest number of sale of {}$'.format(max(sale)))"
   ]
  },
  {
   "cell_type": "code",
   "execution_count": 11,
   "id": "a1e2d8f8",
   "metadata": {},
   "outputs": [
    {
     "data": {
      "text/plain": [
       "Outlet_Location_Type\n",
       "Tier 1    4.482059e+06\n",
       "Tier 2    6.472314e+06\n",
       "Tier 3    7.636753e+06\n",
       "Name: Item_Outlet_Sales, dtype: float64"
      ]
     },
     "execution_count": 11,
     "metadata": {},
     "output_type": "execute_result"
    }
   ],
   "source": [
    "sale"
   ]
  },
  {
   "cell_type": "markdown",
   "id": "40648684",
   "metadata": {},
   "source": [
    "### TIER 3 HAS THE HIGHEST SALES"
   ]
  },
  {
   "cell_type": "code",
   "execution_count": 12,
   "id": "36efba6a",
   "metadata": {},
   "outputs": [
    {
     "data": {
      "image/png": "[encoded data removed]",
      "text/plain": [
       "<Figure size 864x576 with 1 Axes>"
      ]
     },
     "metadata": {
      "needs_background": "light"
     },
     "output_type": "display_data"
    }
   ],
   "source": [
    "#what type of product is sold the most?\n",
    "f=plt.figure()\n",
    "f.set_figwidth(12)\n",
    "f.set_figheight(8)\n",
    "sale1=data.groupby('Item_Type').sum()['Item_Outlet_Sales']\n",
    "products =[product for product, data in data.groupby('Item_Type')]\n",
    "\n",
    "#Plot the graph\n",
    "\n",
    "plt.bar(products,sale1,alpha=0.6,color='green')\n",
    "plt.xticks(products, rotation='vertical')\n",
    "plt.xlabel('Products')\n",
    "plt.ylabel('Sales')\n",
    "plt.legend(['sale'],loc='upper left')\n",
    "plt.show()"
   ]
  },
  {
   "cell_type": "markdown",
   "id": "ef6e81a7",
   "metadata": {},
   "source": [
    "### FRUITS AND VEGETABLES AND SNACK FOODS HAVE THE HIGHEST SALES"
   ]
  },
  {
   "cell_type": "code",
   "execution_count": 53,
   "id": "807a6c1d",
   "metadata": {},
   "outputs": [
    {
     "data": {
      "text/plain": [
       "Text(0, 0.5, 'Count')"
      ]
     },
     "execution_count": 53,
     "metadata": {},
     "output_type": "execute_result"
    },
    {
     "data": {
      "image/png": "[encoded data removed]",
      "text/plain": [
       "<Figure size 720x432 with 1 Axes>"
      ]
     },
     "metadata": {
      "needs_background": "light"
     },
     "output_type": "display_data"
    }
   ],
   "source": [
    "plt.figure(figsize=(10, 6))\n",
    "sns.set(style = 'whitegrid')\n",
    "sns.distplot(data['Item_MRP'])\n",
    "plt.title('Distribution of mrp', fontsize = 20)\n",
    "plt.xlabel('Range of mrp')\n",
    "plt.ylabel('Count')"
   ]
  },
  {
   "cell_type": "code",
   "execution_count": 13,
   "id": "f6c26820",
   "metadata": {},
   "outputs": [
    {
     "data": {
      "image/png": "[encoded data removed]",
      "text/plain": [
       "<Figure size 864x576 with 1 Axes>"
      ]
     },
     "metadata": {
      "needs_background": "light"
     },
     "output_type": "display_data"
    }
   ],
   "source": [
    "#which location type has the highest number of sales?\n",
    "sale2=data.groupby('Outlet_Type').sum()['Item_Outlet_Sales'] #Y-values\n",
    "type1=[type1 for type1, data in data.groupby('Outlet_Type')] #X-values\n",
    "\n",
    "# Plot\n",
    "f=plt.figure()\n",
    "f.set_figwidth(12)\n",
    "f.set_figheight(8)\n",
    "plt.bar(type1,sale2,color='yellow',alpha=.6)\n",
    "plt.xlabel('Outlet type')\n",
    "plt.ylabel('Sales')\n",
    "plt.title('Highest Sale per Outlet type')\n",
    "plt.show()"
   ]
  },
  {
   "cell_type": "code",
   "execution_count": null,
   "id": "88bafa6a",
   "metadata": {},
   "outputs": [],
   "source": [
    "plt.figure(figsize=(12,8))\n",
    "sb.barplot(data=data,x='Grade',y='Expected price',hue='Trooms',ci=True,palette='cool')\n",
    "plt.title('Grade vs expected price with respect to trooms')"
   ]
  },
  {
   "cell_type": "markdown",
   "id": "80f06767",
   "metadata": {},
   "source": [
    "### SUPER MARKET TYPE 1 HAS THE HIGHEST SALES"
   ]
  },
  {
   "cell_type": "code",
   "execution_count": 14,
   "id": "7aca5d25",
   "metadata": {},
   "outputs": [
    {
     "name": "stdout",
     "output_type": "stream",
     "text": [
      "\n",
      " Item_Identifier_encode has unique values :  [ 156    8  662 ... 1323 1524 1519]\n",
      "\n",
      " Item_Fat_Content_encode has unique values :  [0 1]\n",
      "\n",
      " Item_Type_encode has unique values :  [ 4 14 10  6  9  0 13  5  2  8  7  3  1 15 11 12]\n",
      "\n",
      " Outlet_Identifier_encode has unique values :  [9 3 0 1 5 7 2 8 6 4]\n",
      "\n",
      " Outlet_Size_encode has unique values :  [1 0 2]\n",
      "\n",
      " Outlet_Location_Type_encode has unique values :  [0 2 1]\n",
      "\n",
      " Outlet_Type_encode has unique values :  [1 2 0 3]\n"
     ]
    }
   ],
   "source": [
    "# Converting non-numeric labeled column into categorical column\n",
    "\n",
    "for i in data.columns:\n",
    "    if data[i].dtypes == 'object':\n",
    "        data[i] = data[i].astype('category')\n",
    "    else:\n",
    "        continue\n",
    "        \n",
    "# Using Label Encoder technique to convert categorical column into numerical type\n",
    "from sklearn import preprocessing\n",
    "label_encoder = preprocessing.LabelEncoder()\n",
    "\n",
    "for i in data.columns:\n",
    "    if data[i].dtypes == 'category':\n",
    "        data[i + '_encode'] = label_encoder.fit_transform(data[i])\n",
    "        print('\\n',i + '_encode has unique values : ',data[i + '_encode'].unique())\n",
    "    else:\n",
    "        continue"
   ]
  },
  {
   "cell_type": "code",
   "execution_count": 15,
   "id": "922d1d90",
   "metadata": {},
   "outputs": [
    {
     "data": {
      "text/html": [
       "<div>\n",
       "<style scoped>\n",
       "    .dataframe tbody tr th:only-of-type {\n",
       "        vertical-align: middle;\n",
       "    }\n",
       "\n",
       "    .dataframe tbody tr th {\n",
       "        vertical-align: top;\n",
       "    }\n",
       "\n",
       "    .dataframe thead th {\n",
       "        text-align: right;\n",
       "    }\n",
       "</style>\n",
       "<table border=\"1\" class=\"dataframe\">\n",
       "  <thead>\n",
       "    <tr style=\"text-align: right;\">\n",
       "      <th></th>\n",
       "      <th>Item_Weight</th>\n",
       "      <th>Item_Visibility</th>\n",
       "      <th>Item_MRP</th>\n",
       "      <th>Outlet_Establishment_Year</th>\n",
       "      <th>Item_Outlet_Sales</th>\n",
       "      <th>Item_Identifier_encode</th>\n",
       "      <th>Item_Fat_Content_encode</th>\n",
       "      <th>Item_Type_encode</th>\n",
       "      <th>Outlet_Identifier_encode</th>\n",
       "      <th>Outlet_Size_encode</th>\n",
       "      <th>Outlet_Location_Type_encode</th>\n",
       "      <th>Outlet_Type_encode</th>\n",
       "    </tr>\n",
       "  </thead>\n",
       "  <tbody>\n",
       "    <tr>\n",
       "      <th>0</th>\n",
       "      <td>0.282525</td>\n",
       "      <td>0.038399</td>\n",
       "      <td>0.927507</td>\n",
       "      <td>0.583333</td>\n",
       "      <td>0.283587</td>\n",
       "      <td>0.100128</td>\n",
       "      <td>0.0</td>\n",
       "      <td>0.266667</td>\n",
       "      <td>1.000000</td>\n",
       "      <td>0.5</td>\n",
       "      <td>0.0</td>\n",
       "      <td>0.333333</td>\n",
       "    </tr>\n",
       "    <tr>\n",
       "      <th>1</th>\n",
       "      <td>0.081274</td>\n",
       "      <td>0.048346</td>\n",
       "      <td>0.072068</td>\n",
       "      <td>1.000000</td>\n",
       "      <td>0.031419</td>\n",
       "      <td>0.005135</td>\n",
       "      <td>1.0</td>\n",
       "      <td>0.933333</td>\n",
       "      <td>0.333333</td>\n",
       "      <td>0.5</td>\n",
       "      <td>1.0</td>\n",
       "      <td>0.666667</td>\n",
       "    </tr>\n",
       "    <tr>\n",
       "      <th>2</th>\n",
       "      <td>0.770765</td>\n",
       "      <td>0.040593</td>\n",
       "      <td>0.468288</td>\n",
       "      <td>0.583333</td>\n",
       "      <td>0.158115</td>\n",
       "      <td>0.424904</td>\n",
       "      <td>0.0</td>\n",
       "      <td>0.666667</td>\n",
       "      <td>1.000000</td>\n",
       "      <td>0.5</td>\n",
       "      <td>0.0</td>\n",
       "      <td>0.333333</td>\n",
       "    </tr>\n",
       "    <tr>\n",
       "      <th>3</th>\n",
       "      <td>0.871986</td>\n",
       "      <td>0.218055</td>\n",
       "      <td>0.640093</td>\n",
       "      <td>0.541667</td>\n",
       "      <td>0.053555</td>\n",
       "      <td>0.719512</td>\n",
       "      <td>1.0</td>\n",
       "      <td>0.400000</td>\n",
       "      <td>0.000000</td>\n",
       "      <td>0.5</td>\n",
       "      <td>1.0</td>\n",
       "      <td>0.000000</td>\n",
       "    </tr>\n",
       "    <tr>\n",
       "      <th>4</th>\n",
       "      <td>0.260494</td>\n",
       "      <td>0.186950</td>\n",
       "      <td>0.095805</td>\n",
       "      <td>0.083333</td>\n",
       "      <td>0.073651</td>\n",
       "      <td>0.832478</td>\n",
       "      <td>0.0</td>\n",
       "      <td>0.600000</td>\n",
       "      <td>0.111111</td>\n",
       "      <td>0.0</td>\n",
       "      <td>1.0</td>\n",
       "      <td>0.333333</td>\n",
       "    </tr>\n",
       "    <tr>\n",
       "      <th>...</th>\n",
       "      <td>...</td>\n",
       "      <td>...</td>\n",
       "      <td>...</td>\n",
       "      <td>...</td>\n",
       "      <td>...</td>\n",
       "      <td>...</td>\n",
       "      <td>...</td>\n",
       "      <td>...</td>\n",
       "      <td>...</td>\n",
       "      <td>...</td>\n",
       "      <td>...</td>\n",
       "      <td>...</td>\n",
       "    </tr>\n",
       "    <tr>\n",
       "      <th>8518</th>\n",
       "      <td>0.137541</td>\n",
       "      <td>0.163812</td>\n",
       "      <td>0.777729</td>\n",
       "      <td>0.083333</td>\n",
       "      <td>0.210293</td>\n",
       "      <td>0.237484</td>\n",
       "      <td>0.0</td>\n",
       "      <td>0.866667</td>\n",
       "      <td>0.111111</td>\n",
       "      <td>0.0</td>\n",
       "      <td>1.0</td>\n",
       "      <td>0.333333</td>\n",
       "    </tr>\n",
       "    <tr>\n",
       "      <th>8519</th>\n",
       "      <td>0.227746</td>\n",
       "      <td>0.133638</td>\n",
       "      <td>0.326263</td>\n",
       "      <td>0.708333</td>\n",
       "      <td>0.039529</td>\n",
       "      <td>0.575738</td>\n",
       "      <td>1.0</td>\n",
       "      <td>0.000000</td>\n",
       "      <td>0.777778</td>\n",
       "      <td>1.0</td>\n",
       "      <td>0.5</td>\n",
       "      <td>0.333333</td>\n",
       "    </tr>\n",
       "    <tr>\n",
       "      <th>8520</th>\n",
       "      <td>0.359929</td>\n",
       "      <td>0.097321</td>\n",
       "      <td>0.228492</td>\n",
       "      <td>0.791667</td>\n",
       "      <td>0.088850</td>\n",
       "      <td>0.870988</td>\n",
       "      <td>0.0</td>\n",
       "      <td>0.533333</td>\n",
       "      <td>0.666667</td>\n",
       "      <td>1.0</td>\n",
       "      <td>0.5</td>\n",
       "      <td>0.333333</td>\n",
       "    </tr>\n",
       "    <tr>\n",
       "      <th>8521</th>\n",
       "      <td>0.158083</td>\n",
       "      <td>0.436080</td>\n",
       "      <td>0.304939</td>\n",
       "      <td>1.000000</td>\n",
       "      <td>0.138835</td>\n",
       "      <td>0.437099</td>\n",
       "      <td>1.0</td>\n",
       "      <td>0.866667</td>\n",
       "      <td>0.333333</td>\n",
       "      <td>0.5</td>\n",
       "      <td>1.0</td>\n",
       "      <td>0.666667</td>\n",
       "    </tr>\n",
       "    <tr>\n",
       "      <th>8522</th>\n",
       "      <td>0.610003</td>\n",
       "      <td>0.127160</td>\n",
       "      <td>0.187510</td>\n",
       "      <td>0.500000</td>\n",
       "      <td>0.056105</td>\n",
       "      <td>0.032092</td>\n",
       "      <td>0.0</td>\n",
       "      <td>0.933333</td>\n",
       "      <td>0.888889</td>\n",
       "      <td>1.0</td>\n",
       "      <td>0.0</td>\n",
       "      <td>0.333333</td>\n",
       "    </tr>\n",
       "  </tbody>\n",
       "</table>\n",
       "<p>8523 rows × 12 columns</p>\n",
       "</div>"
      ],
      "text/plain": [
       "      Item_Weight  Item_Visibility  Item_MRP  Outlet_Establishment_Year  \\\n",
       "0        0.282525         0.038399  0.927507                   0.583333   \n",
       "1        0.081274         0.048346  0.072068                   1.000000   \n",
       "2        0.770765         0.040593  0.468288                   0.583333   \n",
       "3        0.871986         0.218055  0.640093                   0.541667   \n",
       "4        0.260494         0.186950  0.095805                   0.083333   \n",
       "...           ...              ...       ...                        ...   \n",
       "8518     0.137541         0.163812  0.777729                   0.083333   \n",
       "8519     0.227746         0.133638  0.326263                   0.708333   \n",
       "8520     0.359929         0.097321  0.228492                   0.791667   \n",
       "8521     0.158083         0.436080  0.304939                   1.000000   \n",
       "8522     0.610003         0.127160  0.187510                   0.500000   \n",
       "\n",
       "      Item_Outlet_Sales  Item_Identifier_encode  Item_Fat_Content_encode  \\\n",
       "0              0.283587                0.100128                      0.0   \n",
       "1              0.031419                0.005135                      1.0   \n",
       "2              0.158115                0.424904                      0.0   \n",
       "3              0.053555                0.719512                      1.0   \n",
       "4              0.073651                0.832478                      0.0   \n",
       "...                 ...                     ...                      ...   \n",
       "8518           0.210293                0.237484                      0.0   \n",
       "8519           0.039529                0.575738                      1.0   \n",
       "8520           0.088850                0.870988                      0.0   \n",
       "8521           0.138835                0.437099                      1.0   \n",
       "8522           0.056105                0.032092                      0.0   \n",
       "\n",
       "      Item_Type_encode  Outlet_Identifier_encode  Outlet_Size_encode  \\\n",
       "0             0.266667                  1.000000                 0.5   \n",
       "1             0.933333                  0.333333                 0.5   \n",
       "2             0.666667                  1.000000                 0.5   \n",
       "3             0.400000                  0.000000                 0.5   \n",
       "4             0.600000                  0.111111                 0.0   \n",
       "...                ...                       ...                 ...   \n",
       "8518          0.866667                  0.111111                 0.0   \n",
       "8519          0.000000                  0.777778                 1.0   \n",
       "8520          0.533333                  0.666667                 1.0   \n",
       "8521          0.866667                  0.333333                 0.5   \n",
       "8522          0.933333                  0.888889                 1.0   \n",
       "\n",
       "      Outlet_Location_Type_encode  Outlet_Type_encode  \n",
       "0                             0.0            0.333333  \n",
       "1                             1.0            0.666667  \n",
       "2                             0.0            0.333333  \n",
       "3                             1.0            0.000000  \n",
       "4                             1.0            0.333333  \n",
       "...                           ...                 ...  \n",
       "8518                          1.0            0.333333  \n",
       "8519                          0.5            0.333333  \n",
       "8520                          0.5            0.333333  \n",
       "8521                          1.0            0.666667  \n",
       "8522                          0.0            0.333333  \n",
       "\n",
       "[8523 rows x 12 columns]"
      ]
     },
     "execution_count": 15,
     "metadata": {},
     "output_type": "execute_result"
    }
   ],
   "source": [
    "# Defining method to perform data scaling operation based on the type of scaling\n",
    "def feature_scale(scale):\n",
    "    numerics = ['int16', 'int32', 'int64', 'float16', 'float32', 'float64']\n",
    "    new_df = data.select_dtypes(include = numerics)\n",
    "    scaler = MinMaxScaler()\n",
    "    df_scaled = pd.DataFrame(scaler.fit_transform(new_df.to_numpy()), columns = new_df.columns)\n",
    "    return df_scaled\n",
    "\n",
    "# scaling the data using MinMax Scaling process\n",
    "data_df_scaled = feature_scale('minmax')\n",
    "data_df_scaled"
   ]
  },
  {
   "cell_type": "code",
   "execution_count": 16,
   "id": "6381b680",
   "metadata": {},
   "outputs": [
    {
     "data": {
      "text/html": [
       "<style type=\"text/css\">\n",
       "#T_de0d6_row0_col0, #T_de0d6_row1_col1, #T_de0d6_row2_col2, #T_de0d6_row3_col3, #T_de0d6_row4_col4, #T_de0d6_row5_col5, #T_de0d6_row6_col6, #T_de0d6_row7_col7, #T_de0d6_row8_col8, #T_de0d6_row9_col9, #T_de0d6_row10_col10, #T_de0d6_row11_col11 {\n",
       "  background-color: #014636;\n",
       "  color: #f1f1f1;\n",
       "}\n",
       "#T_de0d6_row0_col1, #T_de0d6_row6_col4, #T_de0d6_row7_col4 {\n",
       "  background-color: #eae1ef;\n",
       "  color: #000000;\n",
       "}\n",
       "#T_de0d6_row0_col2 {\n",
       "  background-color: #faf2f8;\n",
       "  color: #000000;\n",
       "}\n",
       "#T_de0d6_row0_col3, #T_de0d6_row5_col3, #T_de0d6_row8_col5 {\n",
       "  background-color: #f1e7f3;\n",
       "  color: #000000;\n",
       "}\n",
       "#T_de0d6_row0_col4 {\n",
       "  background-color: #ebe1f0;\n",
       "  color: #000000;\n",
       "}\n",
       "#T_de0d6_row0_col5, #T_de0d6_row2_col1, #T_de0d6_row2_col7 {\n",
       "  background-color: #e7dfee;\n",
       "  color: #000000;\n",
       "}\n",
       "#T_de0d6_row0_col6, #T_de0d6_row9_col5 {\n",
       "  background-color: #f0e7f2;\n",
       "  color: #000000;\n",
       "}\n",
       "#T_de0d6_row0_col7 {\n",
       "  background-color: #e6deee;\n",
       "  color: #000000;\n",
       "}\n",
       "#T_de0d6_row0_col8, #T_de0d6_row5_col8 {\n",
       "  background-color: #93b7d7;\n",
       "  color: #000000;\n",
       "}\n",
       "#T_de0d6_row0_col9 {\n",
       "  background-color: #abbfdc;\n",
       "  color: #000000;\n",
       "}\n",
       "#T_de0d6_row0_col10, #T_de0d6_row2_col8, #T_de0d6_row5_col10, #T_de0d6_row7_col8, #T_de0d6_row7_col10 {\n",
       "  background-color: #90b6d7;\n",
       "  color: #000000;\n",
       "}\n",
       "#T_de0d6_row0_col11, #T_de0d6_row2_col11, #T_de0d6_row5_col11 {\n",
       "  background-color: #dad7ea;\n",
       "  color: #000000;\n",
       "}\n",
       "#T_de0d6_row1_col0, #T_de0d6_row3_col2, #T_de0d6_row8_col2 {\n",
       "  background-color: #fef6fa;\n",
       "  color: #000000;\n",
       "}\n",
       "#T_de0d6_row1_col2, #T_de0d6_row1_col4, #T_de0d6_row6_col0, #T_de0d6_row6_col5, #T_de0d6_row6_col7, #T_de0d6_row7_col6, #T_de0d6_row8_col10, #T_de0d6_row9_col11, #T_de0d6_row10_col8, #T_de0d6_row10_col9, #T_de0d6_row11_col1, #T_de0d6_row11_col2, #T_de0d6_row11_col3 {\n",
       "  background-color: #fff7fb;\n",
       "  color: #000000;\n",
       "}\n",
       "#T_de0d6_row1_col3, #T_de0d6_row4_col1, #T_de0d6_row7_col2 {\n",
       "  background-color: #faf1f8;\n",
       "  color: #000000;\n",
       "}\n",
       "#T_de0d6_row1_col5, #T_de0d6_row3_col4 {\n",
       "  background-color: #f4eaf4;\n",
       "  color: #000000;\n",
       "}\n",
       "#T_de0d6_row1_col6 {\n",
       "  background-color: #e3dded;\n",
       "  color: #000000;\n",
       "}\n",
       "#T_de0d6_row1_col7, #T_de0d6_row3_col5 {\n",
       "  background-color: #f1e8f3;\n",
       "  color: #000000;\n",
       "}\n",
       "#T_de0d6_row1_col8 {\n",
       "  background-color: #acc0dd;\n",
       "  color: #000000;\n",
       "}\n",
       "#T_de0d6_row1_col9 {\n",
       "  background-color: #9dbad9;\n",
       "  color: #000000;\n",
       "}\n",
       "#T_de0d6_row1_col10 {\n",
       "  background-color: #99b9d9;\n",
       "  color: #000000;\n",
       "}\n",
       "#T_de0d6_row1_col11, #T_de0d6_row4_col3, #T_de0d6_row9_col4 {\n",
       "  background-color: #f5ecf5;\n",
       "  color: #000000;\n",
       "}\n",
       "#T_de0d6_row2_col0 {\n",
       "  background-color: #f7eef7;\n",
       "  color: #000000;\n",
       "}\n",
       "#T_de0d6_row2_col3, #T_de0d6_row2_col5, #T_de0d6_row7_col3 {\n",
       "  background-color: #eee4f1;\n",
       "  color: #000000;\n",
       "}\n",
       "#T_de0d6_row2_col4 {\n",
       "  background-color: #3891c1;\n",
       "  color: #f1f1f1;\n",
       "}\n",
       "#T_de0d6_row2_col6, #T_de0d6_row3_col6, #T_de0d6_row3_col7, #T_de0d6_row5_col1, #T_de0d6_row10_col1, #T_de0d6_row10_col7, #T_de0d6_row11_col7 {\n",
       "  background-color: #ece2f0;\n",
       "  color: #000000;\n",
       "}\n",
       "#T_de0d6_row2_col9 {\n",
       "  background-color: #a7bddb;\n",
       "  color: #000000;\n",
       "}\n",
       "#T_de0d6_row2_col10, #T_de0d6_row6_col8, #T_de0d6_row6_col10 {\n",
       "  background-color: #91b6d7;\n",
       "  color: #000000;\n",
       "}\n",
       "#T_de0d6_row3_col0, #T_de0d6_row6_col2, #T_de0d6_row9_col0 {\n",
       "  background-color: #fdf5fa;\n",
       "  color: #000000;\n",
       "}\n",
       "#T_de0d6_row3_col1 {\n",
       "  background-color: #f2e9f4;\n",
       "  color: #000000;\n",
       "}\n",
       "#T_de0d6_row3_col8 {\n",
       "  background-color: #7aafd3;\n",
       "  color: #f1f1f1;\n",
       "}\n",
       "#T_de0d6_row3_col9 {\n",
       "  background-color: #2e8eb8;\n",
       "  color: #f1f1f1;\n",
       "}\n",
       "#T_de0d6_row3_col10 {\n",
       "  background-color: #a9bfdc;\n",
       "  color: #000000;\n",
       "}\n",
       "#T_de0d6_row3_col11, #T_de0d6_row6_col3 {\n",
       "  background-color: #eee5f1;\n",
       "  color: #000000;\n",
       "}\n",
       "#T_de0d6_row4_col0 {\n",
       "  background-color: #f9f0f8;\n",
       "  color: #000000;\n",
       "}\n",
       "#T_de0d6_row4_col2 {\n",
       "  background-color: #4c9bc7;\n",
       "  color: #f1f1f1;\n",
       "}\n",
       "#T_de0d6_row4_col5, #T_de0d6_row11_col5 {\n",
       "  background-color: #f0e6f2;\n",
       "  color: #000000;\n",
       "}\n",
       "#T_de0d6_row4_col6, #T_de0d6_row4_col7 {\n",
       "  background-color: #e9e0ef;\n",
       "  color: #000000;\n",
       "}\n",
       "#T_de0d6_row4_col8 {\n",
       "  background-color: #62a6cd;\n",
       "  color: #f1f1f1;\n",
       "}\n",
       "#T_de0d6_row4_col9 {\n",
       "  background-color: #b4c4df;\n",
       "  color: #000000;\n",
       "}\n",
       "#T_de0d6_row4_col10 {\n",
       "  background-color: #76aed2;\n",
       "  color: #f1f1f1;\n",
       "}\n",
       "#T_de0d6_row4_col11 {\n",
       "  background-color: #5da4cc;\n",
       "  color: #f1f1f1;\n",
       "}\n",
       "#T_de0d6_row5_col0, #T_de0d6_row9_col10 {\n",
       "  background-color: #f4ebf5;\n",
       "  color: #000000;\n",
       "}\n",
       "#T_de0d6_row5_col2, #T_de0d6_row8_col0 {\n",
       "  background-color: #fdf4fa;\n",
       "  color: #000000;\n",
       "}\n",
       "#T_de0d6_row5_col4, #T_de0d6_row8_col6, #T_de0d6_row8_col7, #T_de0d6_row9_col6, #T_de0d6_row9_col7, #T_de0d6_row11_col6 {\n",
       "  background-color: #ede3f0;\n",
       "  color: #000000;\n",
       "}\n",
       "#T_de0d6_row5_col6 {\n",
       "  background-color: #fcf4f9;\n",
       "  color: #000000;\n",
       "}\n",
       "#T_de0d6_row5_col7, #T_de0d6_row10_col5 {\n",
       "  background-color: #efe5f2;\n",
       "  color: #000000;\n",
       "}\n",
       "#T_de0d6_row5_col9, #T_de0d6_row6_col9, #T_de0d6_row7_col9 {\n",
       "  background-color: #a8bedc;\n",
       "  color: #000000;\n",
       "}\n",
       "#T_de0d6_row6_col1 {\n",
       "  background-color: #ddd9eb;\n",
       "  color: #000000;\n",
       "}\n",
       "#T_de0d6_row6_col11, #T_de0d6_row7_col11, #T_de0d6_row11_col9 {\n",
       "  background-color: #d9d7e9;\n",
       "  color: #000000;\n",
       "}\n",
       "#T_de0d6_row7_col0, #T_de0d6_row8_col1 {\n",
       "  background-color: #f6edf6;\n",
       "  color: #000000;\n",
       "}\n",
       "#T_de0d6_row7_col1, #T_de0d6_row10_col6 {\n",
       "  background-color: #ede3f1;\n",
       "  color: #000000;\n",
       "}\n",
       "#T_de0d6_row7_col5 {\n",
       "  background-color: #f2e9f3;\n",
       "  color: #000000;\n",
       "}\n",
       "#T_de0d6_row8_col3, #T_de0d6_row9_col1 {\n",
       "  background-color: #e0dbec;\n",
       "  color: #000000;\n",
       "}\n",
       "#T_de0d6_row8_col4 {\n",
       "  background-color: #cccfe5;\n",
       "  color: #000000;\n",
       "}\n",
       "#T_de0d6_row8_col9 {\n",
       "  background-color: #308eba;\n",
       "  color: #f1f1f1;\n",
       "}\n",
       "#T_de0d6_row8_col11 {\n",
       "  background-color: #c4cbe3;\n",
       "  color: #000000;\n",
       "}\n",
       "#T_de0d6_row9_col2, #T_de0d6_row10_col2 {\n",
       "  background-color: #fef6fb;\n",
       "  color: #000000;\n",
       "}\n",
       "#T_de0d6_row9_col3 {\n",
       "  background-color: #6cabd0;\n",
       "  color: #f1f1f1;\n",
       "}\n",
       "#T_de0d6_row9_col8 {\n",
       "  background-color: #258bae;\n",
       "  color: #f1f1f1;\n",
       "}\n",
       "#T_de0d6_row10_col0, #T_de0d6_row10_col3 {\n",
       "  background-color: #fbf2f9;\n",
       "  color: #000000;\n",
       "}\n",
       "#T_de0d6_row10_col4 {\n",
       "  background-color: #dcd8ea;\n",
       "  color: #000000;\n",
       "}\n",
       "#T_de0d6_row10_col11 {\n",
       "  background-color: #499ac6;\n",
       "  color: #f1f1f1;\n",
       "}\n",
       "#T_de0d6_row11_col0 {\n",
       "  background-color: #fbf3f9;\n",
       "  color: #000000;\n",
       "}\n",
       "#T_de0d6_row11_col4, #T_de0d6_row11_col8 {\n",
       "  background-color: #74add1;\n",
       "  color: #f1f1f1;\n",
       "}\n",
       "#T_de0d6_row11_col10 {\n",
       "  background-color: #1b88a4;\n",
       "  color: #f1f1f1;\n",
       "}\n",
       "</style>\n",
       "<table id=\"T_de0d6\">\n",
       "  <thead>\n",
       "    <tr>\n",
       "      <th class=\"blank level0\" >&nbsp;</th>\n",
       "      <th id=\"T_de0d6_level0_col0\" class=\"col_heading level0 col0\" >Item_Weight</th>\n",
       "      <th id=\"T_de0d6_level0_col1\" class=\"col_heading level0 col1\" >Item_Visibility</th>\n",
       "      <th id=\"T_de0d6_level0_col2\" class=\"col_heading level0 col2\" >Item_MRP</th>\n",
       "      <th id=\"T_de0d6_level0_col3\" class=\"col_heading level0 col3\" >Outlet_Establishment_Year</th>\n",
       "      <th id=\"T_de0d6_level0_col4\" class=\"col_heading level0 col4\" >Item_Outlet_Sales</th>\n",
       "      <th id=\"T_de0d6_level0_col5\" class=\"col_heading level0 col5\" >Item_Identifier_encode</th>\n",
       "      <th id=\"T_de0d6_level0_col6\" class=\"col_heading level0 col6\" >Item_Fat_Content_encode</th>\n",
       "      <th id=\"T_de0d6_level0_col7\" class=\"col_heading level0 col7\" >Item_Type_encode</th>\n",
       "      <th id=\"T_de0d6_level0_col8\" class=\"col_heading level0 col8\" >Outlet_Identifier_encode</th>\n",
       "      <th id=\"T_de0d6_level0_col9\" class=\"col_heading level0 col9\" >Outlet_Size_encode</th>\n",
       "      <th id=\"T_de0d6_level0_col10\" class=\"col_heading level0 col10\" >Outlet_Location_Type_encode</th>\n",
       "      <th id=\"T_de0d6_level0_col11\" class=\"col_heading level0 col11\" >Outlet_Type_encode</th>\n",
       "    </tr>\n",
       "  </thead>\n",
       "  <tbody>\n",
       "    <tr>\n",
       "      <th id=\"T_de0d6_level0_row0\" class=\"row_heading level0 row0\" >Item_Weight</th>\n",
       "      <td id=\"T_de0d6_row0_col0\" class=\"data row0 col0\" >1.000000</td>\n",
       "      <td id=\"T_de0d6_row0_col1\" class=\"data row0 col1\" >-0.018409</td>\n",
       "      <td id=\"T_de0d6_row0_col2\" class=\"data row0 col2\" >0.026172</td>\n",
       "      <td id=\"T_de0d6_row0_col3\" class=\"data row0 col3\" >-0.012823</td>\n",
       "      <td id=\"T_de0d6_row0_col4\" class=\"data row0 col4\" >0.013261</td>\n",
       "      <td id=\"T_de0d6_row0_col5\" class=\"data row0 col5\" >0.048366</td>\n",
       "      <td id=\"T_de0d6_row0_col6\" class=\"data row0 col6\" >-0.027166</td>\n",
       "      <td id=\"T_de0d6_row0_col7\" class=\"data row0 col7\" >0.035973</td>\n",
       "      <td id=\"T_de0d6_row0_col8\" class=\"data row0 col8\" >-0.007568</td>\n",
       "      <td id=\"T_de0d6_row0_col9\" class=\"data row0 col9\" >-0.013371</td>\n",
       "      <td id=\"T_de0d6_row0_col10\" class=\"data row0 col10\" >0.002929</td>\n",
       "      <td id=\"T_de0d6_row0_col11\" class=\"data row0 col11\" >0.000298</td>\n",
       "    </tr>\n",
       "    <tr>\n",
       "      <th id=\"T_de0d6_level0_row1\" class=\"row_heading level0 row1\" >Item_Visibility</th>\n",
       "      <td id=\"T_de0d6_row1_col0\" class=\"data row1 col0\" >-0.018409</td>\n",
       "      <td id=\"T_de0d6_row1_col1\" class=\"data row1 col1\" >1.000000</td>\n",
       "      <td id=\"T_de0d6_row1_col2\" class=\"data row1 col2\" >-0.005861</td>\n",
       "      <td id=\"T_de0d6_row1_col3\" class=\"data row1 col3\" >-0.080598</td>\n",
       "      <td id=\"T_de0d6_row1_col4\" class=\"data row1 col4\" >-0.135247</td>\n",
       "      <td id=\"T_de0d6_row1_col5\" class=\"data row1 col5\" >-0.029442</td>\n",
       "      <td id=\"T_de0d6_row1_col6\" class=\"data row1 col6\" >0.049815</td>\n",
       "      <td id=\"T_de0d6_row1_col7\" class=\"data row1 col7\" >-0.036094</td>\n",
       "      <td id=\"T_de0d6_row1_col8\" class=\"data row1 col8\" >-0.105722</td>\n",
       "      <td id=\"T_de0d6_row1_col9\" class=\"data row1 col9\" >0.031617</td>\n",
       "      <td id=\"T_de0d6_row1_col10\" class=\"data row1 col10\" >-0.029109</td>\n",
       "      <td id=\"T_de0d6_row1_col11\" class=\"data row1 col11\" >-0.178473</td>\n",
       "    </tr>\n",
       "    <tr>\n",
       "      <th id=\"T_de0d6_level0_row2\" class=\"row_heading level0 row2\" >Item_MRP</th>\n",
       "      <td id=\"T_de0d6_row2_col0\" class=\"data row2 col0\" >0.026172</td>\n",
       "      <td id=\"T_de0d6_row2_col1\" class=\"data row2 col1\" >-0.005861</td>\n",
       "      <td id=\"T_de0d6_row2_col2\" class=\"data row2 col2\" >1.000000</td>\n",
       "      <td id=\"T_de0d6_row2_col3\" class=\"data row2 col3\" >0.005020</td>\n",
       "      <td id=\"T_de0d6_row2_col4\" class=\"data row2 col4\" >0.567574</td>\n",
       "      <td id=\"T_de0d6_row2_col5\" class=\"data row2 col5\" >0.012853</td>\n",
       "      <td id=\"T_de0d6_row2_col6\" class=\"data row2 col6\" >0.006063</td>\n",
       "      <td id=\"T_de0d6_row2_col7\" class=\"data row2 col7\" >0.032651</td>\n",
       "      <td id=\"T_de0d6_row2_col8\" class=\"data row2 col8\" >0.003319</td>\n",
       "      <td id=\"T_de0d6_row2_col9\" class=\"data row2 col9\" >0.001215</td>\n",
       "      <td id=\"T_de0d6_row2_col10\" class=\"data row2 col10\" >0.000232</td>\n",
       "      <td id=\"T_de0d6_row2_col11\" class=\"data row2 col11\" >-0.001975</td>\n",
       "    </tr>\n",
       "    <tr>\n",
       "      <th id=\"T_de0d6_level0_row3\" class=\"row_heading level0 row3\" >Outlet_Establishment_Year</th>\n",
       "      <td id=\"T_de0d6_row3_col0\" class=\"data row3 col0\" >-0.012823</td>\n",
       "      <td id=\"T_de0d6_row3_col1\" class=\"data row3 col1\" >-0.080598</td>\n",
       "      <td id=\"T_de0d6_row3_col2\" class=\"data row3 col2\" >0.005020</td>\n",
       "      <td id=\"T_de0d6_row3_col3\" class=\"data row3 col3\" >1.000000</td>\n",
       "      <td id=\"T_de0d6_row3_col4\" class=\"data row3 col4\" >-0.049135</td>\n",
       "      <td id=\"T_de0d6_row3_col5\" class=\"data row3 col5\" >-0.012772</td>\n",
       "      <td id=\"T_de0d6_row3_col6\" class=\"data row3 col6\" >0.003151</td>\n",
       "      <td id=\"T_de0d6_row3_col7\" class=\"data row3 col7\" >0.004970</td>\n",
       "      <td id=\"T_de0d6_row3_col8\" class=\"data row3 col8\" >0.079035</td>\n",
       "      <td id=\"T_de0d6_row3_col9\" class=\"data row3 col9\" >0.428367</td>\n",
       "      <td id=\"T_de0d6_row3_col10\" class=\"data row3 col10\" >-0.089216</td>\n",
       "      <td id=\"T_de0d6_row3_col11\" class=\"data row3 col11\" >-0.122304</td>\n",
       "    </tr>\n",
       "    <tr>\n",
       "      <th id=\"T_de0d6_level0_row4\" class=\"row_heading level0 row4\" >Item_Outlet_Sales</th>\n",
       "      <td id=\"T_de0d6_row4_col0\" class=\"data row4 col0\" >0.013261</td>\n",
       "      <td id=\"T_de0d6_row4_col1\" class=\"data row4 col1\" >-0.135247</td>\n",
       "      <td id=\"T_de0d6_row4_col2\" class=\"data row4 col2\" >0.567574</td>\n",
       "      <td id=\"T_de0d6_row4_col3\" class=\"data row4 col3\" >-0.049135</td>\n",
       "      <td id=\"T_de0d6_row4_col4\" class=\"data row4 col4\" >1.000000</td>\n",
       "      <td id=\"T_de0d6_row4_col5\" class=\"data row4 col5\" >0.002869</td>\n",
       "      <td id=\"T_de0d6_row4_col6\" class=\"data row4 col6\" >0.018719</td>\n",
       "      <td id=\"T_de0d6_row4_col7\" class=\"data row4 col7\" >0.017048</td>\n",
       "      <td id=\"T_de0d6_row4_col8\" class=\"data row4 col8\" >0.162325</td>\n",
       "      <td id=\"T_de0d6_row4_col9\" class=\"data row4 col9\" >-0.060517</td>\n",
       "      <td id=\"T_de0d6_row4_col10\" class=\"data row4 col10\" >0.089367</td>\n",
       "      <td id=\"T_de0d6_row4_col11\" class=\"data row4 col11\" >0.401522</td>\n",
       "    </tr>\n",
       "    <tr>\n",
       "      <th id=\"T_de0d6_level0_row5\" class=\"row_heading level0 row5\" >Item_Identifier_encode</th>\n",
       "      <td id=\"T_de0d6_row5_col0\" class=\"data row5 col0\" >0.048366</td>\n",
       "      <td id=\"T_de0d6_row5_col1\" class=\"data row5 col1\" >-0.029442</td>\n",
       "      <td id=\"T_de0d6_row5_col2\" class=\"data row5 col2\" >0.012853</td>\n",
       "      <td id=\"T_de0d6_row5_col3\" class=\"data row5 col3\" >-0.012772</td>\n",
       "      <td id=\"T_de0d6_row5_col4\" class=\"data row5 col4\" >0.002869</td>\n",
       "      <td id=\"T_de0d6_row5_col5\" class=\"data row5 col5\" >1.000000</td>\n",
       "      <td id=\"T_de0d6_row5_col6\" class=\"data row5 col6\" >-0.114660</td>\n",
       "      <td id=\"T_de0d6_row5_col7\" class=\"data row5 col7\" >-0.017973</td>\n",
       "      <td id=\"T_de0d6_row5_col8\" class=\"data row5 col8\" >-0.008602</td>\n",
       "      <td id=\"T_de0d6_row5_col9\" class=\"data row5 col9\" >-0.002556</td>\n",
       "      <td id=\"T_de0d6_row5_col10\" class=\"data row5 col10\" >0.003656</td>\n",
       "      <td id=\"T_de0d6_row5_col11\" class=\"data row5 col11\" >-0.001178</td>\n",
       "    </tr>\n",
       "    <tr>\n",
       "      <th id=\"T_de0d6_level0_row6\" class=\"row_heading level0 row6\" >Item_Fat_Content_encode</th>\n",
       "      <td id=\"T_de0d6_row6_col0\" class=\"data row6 col0\" >-0.027166</td>\n",
       "      <td id=\"T_de0d6_row6_col1\" class=\"data row6 col1\" >0.049815</td>\n",
       "      <td id=\"T_de0d6_row6_col2\" class=\"data row6 col2\" >0.006063</td>\n",
       "      <td id=\"T_de0d6_row6_col3\" class=\"data row6 col3\" >0.003151</td>\n",
       "      <td id=\"T_de0d6_row6_col4\" class=\"data row6 col4\" >0.018719</td>\n",
       "      <td id=\"T_de0d6_row6_col5\" class=\"data row6 col5\" >-0.114660</td>\n",
       "      <td id=\"T_de0d6_row6_col6\" class=\"data row6 col6\" >1.000000</td>\n",
       "      <td id=\"T_de0d6_row6_col7\" class=\"data row6 col7\" >-0.139434</td>\n",
       "      <td id=\"T_de0d6_row6_col8\" class=\"data row6 col8\" >0.000764</td>\n",
       "      <td id=\"T_de0d6_row6_col9\" class=\"data row6 col9\" >-0.001369</td>\n",
       "      <td id=\"T_de0d6_row6_col10\" class=\"data row6 col10\" >-0.001598</td>\n",
       "      <td id=\"T_de0d6_row6_col11\" class=\"data row6 col11\" >0.002199</td>\n",
       "    </tr>\n",
       "    <tr>\n",
       "      <th id=\"T_de0d6_level0_row7\" class=\"row_heading level0 row7\" >Item_Type_encode</th>\n",
       "      <td id=\"T_de0d6_row7_col0\" class=\"data row7 col0\" >0.035973</td>\n",
       "      <td id=\"T_de0d6_row7_col1\" class=\"data row7 col1\" >-0.036094</td>\n",
       "      <td id=\"T_de0d6_row7_col2\" class=\"data row7 col2\" >0.032651</td>\n",
       "      <td id=\"T_de0d6_row7_col3\" class=\"data row7 col3\" >0.004970</td>\n",
       "      <td id=\"T_de0d6_row7_col4\" class=\"data row7 col4\" >0.017048</td>\n",
       "      <td id=\"T_de0d6_row7_col5\" class=\"data row7 col5\" >-0.017973</td>\n",
       "      <td id=\"T_de0d6_row7_col6\" class=\"data row7 col6\" >-0.139434</td>\n",
       "      <td id=\"T_de0d6_row7_col7\" class=\"data row7 col7\" >1.000000</td>\n",
       "      <td id=\"T_de0d6_row7_col8\" class=\"data row7 col8\" >0.001656</td>\n",
       "      <td id=\"T_de0d6_row7_col9\" class=\"data row7 col9\" >-0.000394</td>\n",
       "      <td id=\"T_de0d6_row7_col10\" class=\"data row7 col10\" >0.003084</td>\n",
       "      <td id=\"T_de0d6_row7_col11\" class=\"data row7 col11\" >0.003053</td>\n",
       "    </tr>\n",
       "    <tr>\n",
       "      <th id=\"T_de0d6_level0_row8\" class=\"row_heading level0 row8\" >Outlet_Identifier_encode</th>\n",
       "      <td id=\"T_de0d6_row8_col0\" class=\"data row8 col0\" >-0.007568</td>\n",
       "      <td id=\"T_de0d6_row8_col1\" class=\"data row8 col1\" >-0.105722</td>\n",
       "      <td id=\"T_de0d6_row8_col2\" class=\"data row8 col2\" >0.003319</td>\n",
       "      <td id=\"T_de0d6_row8_col3\" class=\"data row8 col3\" >0.079035</td>\n",
       "      <td id=\"T_de0d6_row8_col4\" class=\"data row8 col4\" >0.162325</td>\n",
       "      <td id=\"T_de0d6_row8_col5\" class=\"data row8 col5\" >-0.008602</td>\n",
       "      <td id=\"T_de0d6_row8_col6\" class=\"data row8 col6\" >0.000764</td>\n",
       "      <td id=\"T_de0d6_row8_col7\" class=\"data row8 col7\" >0.001656</td>\n",
       "      <td id=\"T_de0d6_row8_col8\" class=\"data row8 col8\" >1.000000</td>\n",
       "      <td id=\"T_de0d6_row8_col9\" class=\"data row8 col9\" >0.423653</td>\n",
       "      <td id=\"T_de0d6_row8_col10\" class=\"data row8 col10\" >-0.716176</td>\n",
       "      <td id=\"T_de0d6_row8_col11\" class=\"data row8 col11\" >0.099873</td>\n",
       "    </tr>\n",
       "    <tr>\n",
       "      <th id=\"T_de0d6_level0_row9\" class=\"row_heading level0 row9\" >Outlet_Size_encode</th>\n",
       "      <td id=\"T_de0d6_row9_col0\" class=\"data row9 col0\" >-0.013371</td>\n",
       "      <td id=\"T_de0d6_row9_col1\" class=\"data row9 col1\" >0.031617</td>\n",
       "      <td id=\"T_de0d6_row9_col2\" class=\"data row9 col2\" >0.001215</td>\n",
       "      <td id=\"T_de0d6_row9_col3\" class=\"data row9 col3\" >0.428367</td>\n",
       "      <td id=\"T_de0d6_row9_col4\" class=\"data row9 col4\" >-0.060517</td>\n",
       "      <td id=\"T_de0d6_row9_col5\" class=\"data row9 col5\" >-0.002556</td>\n",
       "      <td id=\"T_de0d6_row9_col6\" class=\"data row9 col6\" >-0.001369</td>\n",
       "      <td id=\"T_de0d6_row9_col7\" class=\"data row9 col7\" >-0.000394</td>\n",
       "      <td id=\"T_de0d6_row9_col8\" class=\"data row9 col8\" >0.423653</td>\n",
       "      <td id=\"T_de0d6_row9_col9\" class=\"data row9 col9\" >1.000000</td>\n",
       "      <td id=\"T_de0d6_row9_col10\" class=\"data row9 col10\" >-0.590686</td>\n",
       "      <td id=\"T_de0d6_row9_col11\" class=\"data row9 col11\" >-0.260467</td>\n",
       "    </tr>\n",
       "    <tr>\n",
       "      <th id=\"T_de0d6_level0_row10\" class=\"row_heading level0 row10\" >Outlet_Location_Type_encode</th>\n",
       "      <td id=\"T_de0d6_row10_col0\" class=\"data row10 col0\" >0.002929</td>\n",
       "      <td id=\"T_de0d6_row10_col1\" class=\"data row10 col1\" >-0.029109</td>\n",
       "      <td id=\"T_de0d6_row10_col2\" class=\"data row10 col2\" >0.000232</td>\n",
       "      <td id=\"T_de0d6_row10_col3\" class=\"data row10 col3\" >-0.089216</td>\n",
       "      <td id=\"T_de0d6_row10_col4\" class=\"data row10 col4\" >0.089367</td>\n",
       "      <td id=\"T_de0d6_row10_col5\" class=\"data row10 col5\" >0.003656</td>\n",
       "      <td id=\"T_de0d6_row10_col6\" class=\"data row10 col6\" >-0.001598</td>\n",
       "      <td id=\"T_de0d6_row10_col7\" class=\"data row10 col7\" >0.003084</td>\n",
       "      <td id=\"T_de0d6_row10_col8\" class=\"data row10 col8\" >-0.716176</td>\n",
       "      <td id=\"T_de0d6_row10_col9\" class=\"data row10 col9\" >-0.590686</td>\n",
       "      <td id=\"T_de0d6_row10_col10\" class=\"data row10 col10\" >1.000000</td>\n",
       "      <td id=\"T_de0d6_row10_col11\" class=\"data row10 col11\" >0.467219</td>\n",
       "    </tr>\n",
       "    <tr>\n",
       "      <th id=\"T_de0d6_level0_row11\" class=\"row_heading level0 row11\" >Outlet_Type_encode</th>\n",
       "      <td id=\"T_de0d6_row11_col0\" class=\"data row11 col0\" >0.000298</td>\n",
       "      <td id=\"T_de0d6_row11_col1\" class=\"data row11 col1\" >-0.178473</td>\n",
       "      <td id=\"T_de0d6_row11_col2\" class=\"data row11 col2\" >-0.001975</td>\n",
       "      <td id=\"T_de0d6_row11_col3\" class=\"data row11 col3\" >-0.122304</td>\n",
       "      <td id=\"T_de0d6_row11_col4\" class=\"data row11 col4\" >0.401522</td>\n",
       "      <td id=\"T_de0d6_row11_col5\" class=\"data row11 col5\" >-0.001178</td>\n",
       "      <td id=\"T_de0d6_row11_col6\" class=\"data row11 col6\" >0.002199</td>\n",
       "      <td id=\"T_de0d6_row11_col7\" class=\"data row11 col7\" >0.003053</td>\n",
       "      <td id=\"T_de0d6_row11_col8\" class=\"data row11 col8\" >0.099873</td>\n",
       "      <td id=\"T_de0d6_row11_col9\" class=\"data row11 col9\" >-0.260467</td>\n",
       "      <td id=\"T_de0d6_row11_col10\" class=\"data row11 col10\" >0.467219</td>\n",
       "      <td id=\"T_de0d6_row11_col11\" class=\"data row11 col11\" >1.000000</td>\n",
       "    </tr>\n",
       "  </tbody>\n",
       "</table>\n"
      ],
      "text/plain": [
       "<pandas.io.formats.style.Styler at 0x16ecce45f70>"
      ]
     },
     "execution_count": 16,
     "metadata": {},
     "output_type": "execute_result"
    }
   ],
   "source": [
    "corr=data_df_scaled.corr()\n",
    "corr.style.background_gradient(cmap='PuBuGn')"
   ]
  },
  {
   "cell_type": "code",
   "execution_count": 17,
   "id": "5b24454e",
   "metadata": {},
   "outputs": [
    {
     "data": {
      "text/plain": [
       "Item_Outlet_Sales              1.000000\n",
       "Item_MRP                       0.567574\n",
       "Outlet_Type_encode             0.401522\n",
       "Outlet_Identifier_encode       0.162325\n",
       "Item_Visibility                0.135247\n",
       "Outlet_Location_Type_encode    0.089367\n",
       "Outlet_Size_encode             0.060517\n",
       "Outlet_Establishment_Year      0.049135\n",
       "Item_Fat_Content_encode        0.018719\n",
       "Item_Type_encode               0.017048\n",
       "Item_Weight                    0.013261\n",
       "Item_Identifier_encode         0.002869\n",
       "Name: Item_Outlet_Sales, dtype: float64"
      ]
     },
     "execution_count": 17,
     "metadata": {},
     "output_type": "execute_result"
    }
   ],
   "source": [
    "abs(corr['Item_Outlet_Sales']).sort_values(ascending=False) #correlation with target column"
   ]
  },
  {
   "cell_type": "code",
   "execution_count": 18,
   "id": "e45540ae",
   "metadata": {},
   "outputs": [],
   "source": [
    "data_df_scaled.drop(columns=['Item_Identifier_encode','Outlet_Identifier_encode','Item_Weight','Item_Fat_Content_encode','Outlet_Establishment_Year','Outlet_Location_Type_encode'],inplace=True)"
   ]
  },
  {
   "cell_type": "markdown",
   "id": "f6aaa98b",
   "metadata": {},
   "source": [
    "## LinearRegression"
   ]
  },
  {
   "cell_type": "code",
   "execution_count": 19,
   "id": "3991419a",
   "metadata": {},
   "outputs": [],
   "source": [
    "#seperating dependent and independent column\n",
    "X=data_df_scaled.drop(columns='Item_Outlet_Sales').to_numpy()\n",
    "y=data_df_scaled['Item_Outlet_Sales'].to_numpy()"
   ]
  },
  {
   "cell_type": "code",
   "execution_count": 20,
   "id": "d1238af8",
   "metadata": {},
   "outputs": [],
   "source": [
    "cv = KFold(n_splits=3, shuffle=True, random_state=1) #splitting data"
   ]
  },
  {
   "cell_type": "code",
   "execution_count": 21,
   "id": "486ed466",
   "metadata": {},
   "outputs": [],
   "source": [
    "for train, test in cv.split(X,y):\n",
    "    X_train, X_test=X[train],X[test]\n",
    "    y_train, y_test=y[train],y[test]"
   ]
  },
  {
   "cell_type": "code",
   "execution_count": 22,
   "id": "a37e6bbb",
   "metadata": {},
   "outputs": [],
   "source": [
    "model1=LinearRegression() #building model"
   ]
  },
  {
   "cell_type": "code",
   "execution_count": 23,
   "id": "6d065317",
   "metadata": {},
   "outputs": [],
   "source": [
    "reg1=model1.fit(X_train, y_train) #fitting model"
   ]
  },
  {
   "cell_type": "code",
   "execution_count": 24,
   "id": "5dc11a80",
   "metadata": {},
   "outputs": [
    {
     "data": {
      "text/plain": [
       "array([0.28400858, 0.15574642, 0.11274896, ..., 0.06077979, 0.11002046,\n",
       "       0.22623857])"
      ]
     },
     "execution_count": 24,
     "metadata": {},
     "output_type": "execute_result"
    }
   ],
   "source": [
    "y1_pred=reg1.predict(X_test) #predicting values\n",
    "y1_pred "
   ]
  },
  {
   "cell_type": "code",
   "execution_count": 25,
   "id": "231ece85",
   "metadata": {},
   "outputs": [],
   "source": [
    "scoring=['r2','neg_mean_squared_error','neg_root_mean_squared_error','neg_mean_absolute_percentage_error','neg_median_absolute_error']\n",
    "scores1 = cross_validate(model1, X, y, scoring=scoring, cv=cv) #model evaluation"
   ]
  },
  {
   "cell_type": "code",
   "execution_count": 26,
   "id": "7850c84c",
   "metadata": {},
   "outputs": [],
   "source": [
    "m1s1=(scores1['test_r2'])\n",
    "m1s2=(scores1['test_neg_mean_squared_error'])\n",
    "m1s3=(scores1['test_neg_root_mean_squared_error'])\n",
    "m1s4=(scores1['test_neg_mean_absolute_percentage_error'])\n",
    "m1s5=(scores1['test_neg_median_absolute_error'])"
   ]
  },
  {
   "cell_type": "code",
   "execution_count": 27,
   "id": "5856ddd9",
   "metadata": {},
   "outputs": [
    {
     "name": "stdout",
     "output_type": "stream",
     "text": [
      "r2:0.48934923758205445\n",
      "MSE:-0.00872599188332558\n",
      "RMSE:-0.09340909327133484\n",
      "MAPE:-50746812257.34814\n",
      "MAE:-0.054165239525419705\n"
     ]
    }
   ],
   "source": [
    "print(f'''r2:{mean(m1s1)}\n",
    "MSE:{mean(m1s2)}\n",
    "RMSE:{mean(m1s3)}\n",
    "MAPE:{mean(m1s4)}\n",
    "MAE:{mean(m1s5)}''')"
   ]
  },
  {
   "cell_type": "markdown",
   "id": "6fa35938",
   "metadata": {},
   "source": [
    "# **Random Forest Regressor**"
   ]
  },
  {
   "cell_type": "code",
   "execution_count": 28,
   "id": "417746d1",
   "metadata": {},
   "outputs": [],
   "source": [
    "model2 = RandomForestRegressor() #building model"
   ]
  },
  {
   "cell_type": "code",
   "execution_count": 29,
   "id": "82d58f6e",
   "metadata": {},
   "outputs": [],
   "source": [
    "reg2=model2.fit(X_train, y_train) #fitting model"
   ]
  },
  {
   "cell_type": "code",
   "execution_count": 30,
   "id": "0e0476fc",
   "metadata": {},
   "outputs": [
    {
     "data": {
      "text/plain": [
       "array([0.32492451, 0.1529542 , 0.13523003, ..., 0.04841018, 0.07932419,\n",
       "       0.22264103])"
      ]
     },
     "execution_count": 30,
     "metadata": {},
     "output_type": "execute_result"
    }
   ],
   "source": [
    "y2_pred=reg2.predict(X_test) #predicting values\n",
    "y2_pred "
   ]
  },
  {
   "cell_type": "code",
   "execution_count": 31,
   "id": "ebf67e04",
   "metadata": {},
   "outputs": [],
   "source": [
    "scores2 = cross_validate(model2, X, y, scoring=scoring, cv=cv) #model evaluation"
   ]
  },
  {
   "cell_type": "code",
   "execution_count": 32,
   "id": "51e7b837",
   "metadata": {},
   "outputs": [],
   "source": [
    "m2s1=(scores2['test_r2'])\n",
    "m2s2=(scores2['test_neg_mean_squared_error'])\n",
    "m2s3=(scores2['test_neg_root_mean_squared_error'])\n",
    "m2s4=(scores2['test_neg_mean_absolute_percentage_error'])\n",
    "m2s5=(scores2['test_neg_median_absolute_error'])"
   ]
  },
  {
   "cell_type": "code",
   "execution_count": 33,
   "id": "ac829a14",
   "metadata": {},
   "outputs": [
    {
     "name": "stdout",
     "output_type": "stream",
     "text": [
      "r2:0.5478168966841565\n",
      "MSE:-0.007724998180006559\n",
      "RMSE:-0.08788903774815289\n",
      "MAPE:-6903552756.300538\n",
      "MAE:-0.040657961848413686\n"
     ]
    }
   ],
   "source": [
    "print(f'''r2:{mean(m2s1)}\n",
    "MSE:{mean(m2s2)}\n",
    "RMSE:{mean(m2s3)}\n",
    "MAPE:{mean(m2s4)}\n",
    "MAE:{mean(m2s5)}''')"
   ]
  },
  {
   "cell_type": "markdown",
   "id": "45f4d272",
   "metadata": {},
   "source": [
    "# **Ada Boost Regressor**"
   ]
  },
  {
   "cell_type": "code",
   "execution_count": 34,
   "id": "08afb7a8",
   "metadata": {},
   "outputs": [],
   "source": [
    "model3 = AdaBoostRegressor() #building mmodel"
   ]
  },
  {
   "cell_type": "code",
   "execution_count": 35,
   "id": "849e5eed",
   "metadata": {},
   "outputs": [],
   "source": [
    "reg3=model3.fit(X_train, y_train) #fitting model"
   ]
  },
  {
   "cell_type": "code",
   "execution_count": 36,
   "id": "e42aad22",
   "metadata": {},
   "outputs": [
    {
     "data": {
      "text/plain": [
       "array([0.36347345, 0.15880572, 0.14020939, ..., 0.14020939, 0.14020939,\n",
       "       0.30676888])"
      ]
     },
     "execution_count": 36,
     "metadata": {},
     "output_type": "execute_result"
    }
   ],
   "source": [
    "y3_pred=reg3.predict(X_test) #predicting values\n",
    "y3_pred "
   ]
  },
  {
   "cell_type": "code",
   "execution_count": 37,
   "id": "3a524f46",
   "metadata": {},
   "outputs": [],
   "source": [
    "scores3 = cross_validate(model3, X, y, scoring=scoring, cv=cv) #model evaluation"
   ]
  },
  {
   "cell_type": "code",
   "execution_count": 38,
   "id": "078c793d",
   "metadata": {},
   "outputs": [],
   "source": [
    "m3s1=(scores3['test_r2'])\n",
    "m3s2=(scores3['test_neg_mean_squared_error'])\n",
    "m3s3=(scores3['test_neg_root_mean_squared_error'])\n",
    "m3s4=(scores3['test_neg_mean_absolute_percentage_error'])\n",
    "m3s5=(scores3['test_neg_median_absolute_error'])"
   ]
  },
  {
   "cell_type": "code",
   "execution_count": 39,
   "id": "8b88bfa1",
   "metadata": {},
   "outputs": [
    {
     "name": "stdout",
     "output_type": "stream",
     "text": [
      "r2:0.440200513302938\n",
      "MSE:-0.009567753961298739\n",
      "RMSE:-0.0976314103237343\n",
      "MAPE:-62769734335.83569\n",
      "MAE:-0.06492269558189331\n"
     ]
    }
   ],
   "source": [
    "print(f'''r2:{mean(m3s1)}\n",
    "MSE:{mean(m3s2)}\n",
    "RMSE:{mean(m3s3)}\n",
    "MAPE:{mean(m3s4)}\n",
    "MAE:{mean(m3s5)}''')"
   ]
  },
  {
   "cell_type": "markdown",
   "id": "d311760a",
   "metadata": {},
   "source": [
    "# **Stacking**"
   ]
  },
  {
   "cell_type": "code",
   "execution_count": 40,
   "id": "f4841c40",
   "metadata": {},
   "outputs": [],
   "source": [
    "estimator=[('lr',LinearRegression()),('knn',KNeighborsRegressor()),('tree',DecisionTreeRegressor()),('svm',SVR())]\n",
    "final_estimators=LinearRegression()\n",
    "model4 = StackingRegressor(estimators=estimator, final_estimator=final_estimators, cv=3) #building model"
   ]
  },
  {
   "cell_type": "code",
   "execution_count": 41,
   "id": "bb26c662",
   "metadata": {},
   "outputs": [],
   "source": [
    "reg4=model4.fit(X_train, y_train) #fitting model\n"
   ]
  },
  {
   "cell_type": "code",
   "execution_count": 42,
   "id": "05346d7f",
   "metadata": {},
   "outputs": [
    {
     "data": {
      "text/plain": [
       "array([0.29931068, 0.1675744 , 0.11431093, ..., 0.06646205, 0.07155644,\n",
       "       0.25646427])"
      ]
     },
     "execution_count": 42,
     "metadata": {},
     "output_type": "execute_result"
    }
   ],
   "source": [
    "y4_pred=reg4.predict(X_test) #predicting values\n",
    "y4_pred "
   ]
  },
  {
   "cell_type": "code",
   "execution_count": 43,
   "id": "115b583c",
   "metadata": {},
   "outputs": [],
   "source": [
    "scores4 = cross_validate(model4, X, y, scoring=scoring, cv=cv) #model evaluation"
   ]
  },
  {
   "cell_type": "code",
   "execution_count": 44,
   "id": "13c6e408",
   "metadata": {},
   "outputs": [],
   "source": [
    "m4s1=(scores4['test_r2'])\n",
    "m4s2=(scores4['test_neg_mean_squared_error'])\n",
    "m4s3=(scores4['test_neg_root_mean_squared_error'])\n",
    "m4s4=(scores4['test_neg_mean_absolute_percentage_error'])\n",
    "m4s5=(scores4['test_neg_median_absolute_error'])"
   ]
  },
  {
   "cell_type": "code",
   "execution_count": 45,
   "id": "226e3150",
   "metadata": {},
   "outputs": [
    {
     "name": "stdout",
     "output_type": "stream",
     "text": [
      "r2:0.586633203313634\n",
      "MSE:-0.007063016559856107\n",
      "RMSE:-0.08403952943504062\n",
      "MAPE:-18953924936.908573\n",
      "MAE:-0.041313965216383565\n"
     ]
    }
   ],
   "source": [
    "print(f'''r2:{mean(m4s1)}\n",
    "MSE:{mean(m4s2)}\n",
    "RMSE:{mean(m4s3)}\n",
    "MAPE:{mean(m4s4)}\n",
    "MAE:{mean(m4s5)}''')"
   ]
  },
  {
   "cell_type": "markdown",
   "id": "ce2c0f09",
   "metadata": {},
   "source": [
    "# **Model Comparison**"
   ]
  },
  {
   "cell_type": "code",
   "execution_count": 46,
   "id": "8c7353b6",
   "metadata": {},
   "outputs": [
    {
     "data": {
      "text/html": [
       "<div>\n",
       "<style scoped>\n",
       "    .dataframe tbody tr th:only-of-type {\n",
       "        vertical-align: middle;\n",
       "    }\n",
       "\n",
       "    .dataframe tbody tr th {\n",
       "        vertical-align: top;\n",
       "    }\n",
       "\n",
       "    .dataframe thead th {\n",
       "        text-align: right;\n",
       "    }\n",
       "</style>\n",
       "<table border=\"1\" class=\"dataframe\">\n",
       "  <thead>\n",
       "    <tr style=\"text-align: right;\">\n",
       "      <th></th>\n",
       "      <th>Model</th>\n",
       "      <th>R2</th>\n",
       "      <th>MSE</th>\n",
       "      <th>RMSE</th>\n",
       "      <th>MAPE</th>\n",
       "      <th>MAE</th>\n",
       "    </tr>\n",
       "  </thead>\n",
       "  <tbody>\n",
       "    <tr>\n",
       "      <th>0</th>\n",
       "      <td>Linear Regression</td>\n",
       "      <td>0.489349</td>\n",
       "      <td>-0.008726</td>\n",
       "      <td>-0.093409</td>\n",
       "      <td>-5.074681e+10</td>\n",
       "      <td>-0.054165</td>\n",
       "    </tr>\n",
       "    <tr>\n",
       "      <th>1</th>\n",
       "      <td>Random Forest Regressor</td>\n",
       "      <td>0.547817</td>\n",
       "      <td>-0.007725</td>\n",
       "      <td>-0.087889</td>\n",
       "      <td>-6.903553e+09</td>\n",
       "      <td>-0.040658</td>\n",
       "    </tr>\n",
       "    <tr>\n",
       "      <th>2</th>\n",
       "      <td>ADA Boost Regressor</td>\n",
       "      <td>0.440201</td>\n",
       "      <td>-0.009568</td>\n",
       "      <td>-0.097631</td>\n",
       "      <td>-6.276973e+10</td>\n",
       "      <td>-0.064923</td>\n",
       "    </tr>\n",
       "    <tr>\n",
       "      <th>3</th>\n",
       "      <td>Stacking</td>\n",
       "      <td>0.586633</td>\n",
       "      <td>-0.007063</td>\n",
       "      <td>-0.084040</td>\n",
       "      <td>-1.895392e+10</td>\n",
       "      <td>-0.041314</td>\n",
       "    </tr>\n",
       "  </tbody>\n",
       "</table>\n",
       "</div>"
      ],
      "text/plain": [
       "                     Model        R2       MSE      RMSE          MAPE  \\\n",
       "0        Linear Regression  0.489349 -0.008726 -0.093409 -5.074681e+10   \n",
       "1  Random Forest Regressor  0.547817 -0.007725 -0.087889 -6.903553e+09   \n",
       "2      ADA Boost Regressor  0.440201 -0.009568 -0.097631 -6.276973e+10   \n",
       "3                 Stacking  0.586633 -0.007063 -0.084040 -1.895392e+10   \n",
       "\n",
       "        MAE  \n",
       "0 -0.054165  \n",
       "1 -0.040658  \n",
       "2 -0.064923  \n",
       "3 -0.041314  "
      ]
     },
     "execution_count": 46,
     "metadata": {},
     "output_type": "execute_result"
    }
   ],
   "source": [
    "#tabulation\n",
    "comp=pd.DataFrame()\n",
    "comp['Model']=['Linear Regression','Random Forest Regressor','ADA Boost Regressor','Stacking']\n",
    "comp['R2']=[mean(m1s1),mean(m2s1),mean(m3s1),mean(m4s1)]\n",
    "comp['MSE']=[mean(m1s2),mean(m2s2),mean(m3s2),mean(m4s2)]\n",
    "comp['RMSE']=[mean(m1s3),mean(m2s3),mean(m3s3),mean(m4s3)]\n",
    "comp['MAPE']=[mean(m1s4),mean(m2s4),mean(m3s4),mean(m4s4)]\n",
    "comp['MAE']=[mean(m1s5),mean(m2s5),mean(m3s5),mean(m4s5)]\n",
    "comp"
   ]
  },
  {
   "cell_type": "code",
   "execution_count": 47,
   "id": "08736074",
   "metadata": {},
   "outputs": [
    {
     "data": {
      "image/png": "[encoded data removed]",
      "text/plain": [
       "<Figure size 720x360 with 1 Axes>"
      ]
     },
     "metadata": {
      "needs_background": "light"
     },
     "output_type": "display_data"
    }
   ],
   "source": [
    "#visualizatiom\n",
    "names=['Linear Regression','Random Forest Regressor','ADA Boost Regressor','Stacking']\n",
    "fig, ax = plt.subplots(figsize = (10, 5))\n",
    "plt.title('R2 values of Models')\n",
    "plt.boxplot([m1s1,m2s1,m3s1,m4s1], labels=names, showmeans=True);"
   ]
  },
  {
   "cell_type": "markdown",
   "id": "f65a0591",
   "metadata": {},
   "source": [
    "## Insights:R2 value of Stacking is high when compared to others."
   ]
  },
  {
   "cell_type": "code",
   "execution_count": 48,
   "id": "7c8cfe74",
   "metadata": {},
   "outputs": [
    {
     "data": {
      "image/png": "[encoded data removed]",
      "text/plain": [
       "<Figure size 720x360 with 1 Axes>"
      ]
     },
     "metadata": {
      "needs_background": "light"
     },
     "output_type": "display_data"
    }
   ],
   "source": [
    "fig, ax = plt.subplots(figsize = (10, 5))\n",
    "plt.title('MSE values of Models')\n",
    "plt.boxplot([m1s2,m2s2,m3s2,m4s2], labels=names, showmeans=True);"
   ]
  },
  {
   "cell_type": "markdown",
   "id": "4da59361",
   "metadata": {},
   "source": [
    "# Insights: MSE of Stacking is high when compared to others."
   ]
  },
  {
   "cell_type": "code",
   "execution_count": 49,
   "id": "2c91b748",
   "metadata": {},
   "outputs": [
    {
     "data": {
      "image/png": "[encoded data removed]",
      "text/plain": [
       "<Figure size 720x360 with 1 Axes>"
      ]
     },
     "metadata": {
      "needs_background": "light"
     },
     "output_type": "display_data"
    }
   ],
   "source": [
    "fig, ax = plt.subplots(figsize = (10, 5))\n",
    "plt.title('RMSE values of Models')\n",
    "plt.boxplot([m1s3,m2s3,m3s3,m4s3], labels=names, showmeans=True);"
   ]
  },
  {
   "cell_type": "markdown",
   "id": "60816da7",
   "metadata": {},
   "source": [
    "# Insights:RMSE value of stacking is high when compared to others."
   ]
  },
  {
   "cell_type": "code",
   "execution_count": 50,
   "id": "4f53428c",
   "metadata": {},
   "outputs": [
    {
     "data": {
      "image/png": "[encoded data removed]",
      "text/plain": [
       "<Figure size 720x360 with 1 Axes>"
      ]
     },
     "metadata": {
      "needs_background": "light"
     },
     "output_type": "display_data"
    }
   ],
   "source": [
    "fig, ax = plt.subplots(figsize = (10, 5))\n",
    "plt.title('MAPE values of Models')\n",
    "plt.boxplot([m1s4,m2s4,m3s4,m4s4], labels=names, showmeans=True);"
   ]
  },
  {
   "cell_type": "markdown",
   "id": "f72ef8a4",
   "metadata": {},
   "source": [
    "# Insights:MAPE of Stacking is high when compared to others."
   ]
  },
  {
   "cell_type": "code",
   "execution_count": 51,
   "id": "440dab3c",
   "metadata": {},
   "outputs": [
    {
     "data": {
      "image/png": "[encoded data removed]",
      "text/plain": [
       "<Figure size 720x360 with 1 Axes>"
      ]
     },
     "metadata": {
      "needs_background": "light"
     },
     "output_type": "display_data"
    }
   ],
   "source": [
    "fig, ax = plt.subplots(figsize = (10, 5))\n",
    "plt.title('MAE values of Models')\n",
    "plt.boxplot([m1s5,m2s5,m3s5,m4s5], labels=names, showmeans=True);"
   ]
  },
  {
   "cell_type": "markdown",
   "id": "d3233022",
   "metadata": {},
   "source": [
    "# MAE value of Stacking is high when compared to others."
   ]
  },
  {
   "cell_type": "markdown",
   "id": "ec29f60d",
   "metadata": {},
   "source": [
    "**FINAL CONCLUSION**\n",
    "\n",
    "# Thereby we can conclude that Stacking has performed well in this data."
   ]
  },
  {
   "cell_type": "markdown",
   "id": "fc68f263",
   "metadata": {},
   "source": [
    "**Scatter Plot of Actual and Predicted values of Stacking**"
   ]
  },
  {
   "cell_type": "code",
   "execution_count": 52,
   "id": "4b77a4ac",
   "metadata": {},
   "outputs": [
    {
     "data": {
      "image/png": "[encoded data removed]",
      "text/plain": [
       "<Figure size 432x288 with 1 Axes>"
      ]
     },
     "metadata": {
      "needs_background": "light"
     },
     "output_type": "display_data"
    }
   ],
   "source": [
    "x=list(np.arange(0,len(y_test)))\n",
    "plt.scatter(x,y_test)\n",
    "plt.scatter(x,y4_pred,color='red');"
   ]
  },
  {
   "cell_type": "markdown",
   "id": "b525cce6",
   "metadata": {},
   "source": [
    "# From this chart we can see most of predicted and actual values overlap therefore performance of the model is good."
   ]
  }
 ],
 "metadata": {
  "kernelspec": {
   "display_name": "Python 3 (ipykernel)",
   "language": "python",
   "name": "python3"
  },
  "language_info": {
   "codemirror_mode": {
    "name": "ipython",
    "version": 3
   },
   "file_extension": ".py",
   "mimetype": "text/x-python",
   "name": "python",
   "nbconvert_exporter": "python",
   "pygments_lexer": "ipython3",
   "version": "3.9.12"
  }
 },
 "nbformat": 4,
 "nbformat_minor": 5
}
