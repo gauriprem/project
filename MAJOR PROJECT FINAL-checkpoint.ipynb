{
 "cells": [
  {
   "cell_type": "code",
   "execution_count": 1,
   "id": "a034711c",
   "metadata": {},
   "outputs": [],
   "source": [
    "import pandas as pd\n",
    "import numpy as np\n",
    "import matplotlib.pyplot as plt\n",
    "import seaborn as sb\n",
    "import json\n",
    "import gzip"
   ]
  },
  {
   "cell_type": "code",
   "execution_count": 2,
   "id": "fcca363c",
   "metadata": {},
   "outputs": [
    {
     "ename": "FileNotFoundError",
     "evalue": "[Errno 2] No such file or directory: 'reviews_Musical_Instruments_5.json.gz'",
     "output_type": "error",
     "traceback": [
      "\u001b[1;31m---------------------------------------------------------------------------\u001b[0m",
      "\u001b[1;31mFileNotFoundError\u001b[0m                         Traceback (most recent call last)",
      "Input \u001b[1;32mIn [2]\u001b[0m, in \u001b[0;36m<cell line: 12>\u001b[1;34m()\u001b[0m\n\u001b[0;32m     10\u001b[0m         i\u001b[38;5;241m+\u001b[39m\u001b[38;5;241m=\u001b[39m\u001b[38;5;241m1\u001b[39m\n\u001b[0;32m     11\u001b[0m     \u001b[38;5;28;01mreturn\u001b[39;00m pd\u001b[38;5;241m.\u001b[39mDataFrame\u001b[38;5;241m.\u001b[39mfrom_dict(df,orient\u001b[38;5;241m=\u001b[39m\u001b[38;5;124m'\u001b[39m\u001b[38;5;124mindex\u001b[39m\u001b[38;5;124m'\u001b[39m)\n\u001b[1;32m---> 12\u001b[0m df\u001b[38;5;241m=\u001b[39m\u001b[43mgetDF\u001b[49m\u001b[43m(\u001b[49m\u001b[38;5;124;43m\"\u001b[39;49m\u001b[38;5;124;43mreviews_Musical_Instruments_5.json.gz\u001b[39;49m\u001b[38;5;124;43m\"\u001b[39;49m\u001b[43m)\u001b[49m\n",
      "Input \u001b[1;32mIn [2]\u001b[0m, in \u001b[0;36mgetDF\u001b[1;34m(path)\u001b[0m\n\u001b[0;32m      6\u001b[0m i\u001b[38;5;241m=\u001b[39m\u001b[38;5;241m0\u001b[39m\n\u001b[0;32m      7\u001b[0m df\u001b[38;5;241m=\u001b[39m{}\n\u001b[1;32m----> 8\u001b[0m \u001b[38;5;28;01mfor\u001b[39;00m d \u001b[38;5;129;01min\u001b[39;00m parse(path):\n\u001b[0;32m      9\u001b[0m     df[i]\u001b[38;5;241m=\u001b[39md\n\u001b[0;32m     10\u001b[0m     i\u001b[38;5;241m+\u001b[39m\u001b[38;5;241m=\u001b[39m\u001b[38;5;241m1\u001b[39m\n",
      "Input \u001b[1;32mIn [2]\u001b[0m, in \u001b[0;36mparse\u001b[1;34m(path)\u001b[0m\n\u001b[0;32m      1\u001b[0m \u001b[38;5;28;01mdef\u001b[39;00m \u001b[38;5;21mparse\u001b[39m(path):\n\u001b[1;32m----> 2\u001b[0m     g\u001b[38;5;241m=\u001b[39m\u001b[43mgzip\u001b[49m\u001b[38;5;241;43m.\u001b[39;49m\u001b[43mopen\u001b[49m\u001b[43m(\u001b[49m\u001b[43mpath\u001b[49m\u001b[43m,\u001b[49m\u001b[38;5;124;43m'\u001b[39;49m\u001b[38;5;124;43mrb\u001b[39;49m\u001b[38;5;124;43m'\u001b[39;49m\u001b[43m)\u001b[49m\n\u001b[0;32m      3\u001b[0m     \u001b[38;5;28;01mfor\u001b[39;00m l \u001b[38;5;129;01min\u001b[39;00m g:\n\u001b[0;32m      4\u001b[0m         \u001b[38;5;28;01myield\u001b[39;00m \u001b[38;5;28meval\u001b[39m(l)\n",
      "File \u001b[1;32mC:\\ProgramData\\Anaconda3\\lib\\gzip.py:58\u001b[0m, in \u001b[0;36mopen\u001b[1;34m(filename, mode, compresslevel, encoding, errors, newline)\u001b[0m\n\u001b[0;32m     56\u001b[0m gz_mode \u001b[38;5;241m=\u001b[39m mode\u001b[38;5;241m.\u001b[39mreplace(\u001b[38;5;124m\"\u001b[39m\u001b[38;5;124mt\u001b[39m\u001b[38;5;124m\"\u001b[39m, \u001b[38;5;124m\"\u001b[39m\u001b[38;5;124m\"\u001b[39m)\n\u001b[0;32m     57\u001b[0m \u001b[38;5;28;01mif\u001b[39;00m \u001b[38;5;28misinstance\u001b[39m(filename, (\u001b[38;5;28mstr\u001b[39m, \u001b[38;5;28mbytes\u001b[39m, os\u001b[38;5;241m.\u001b[39mPathLike)):\n\u001b[1;32m---> 58\u001b[0m     binary_file \u001b[38;5;241m=\u001b[39m \u001b[43mGzipFile\u001b[49m\u001b[43m(\u001b[49m\u001b[43mfilename\u001b[49m\u001b[43m,\u001b[49m\u001b[43m \u001b[49m\u001b[43mgz_mode\u001b[49m\u001b[43m,\u001b[49m\u001b[43m \u001b[49m\u001b[43mcompresslevel\u001b[49m\u001b[43m)\u001b[49m\n\u001b[0;32m     59\u001b[0m \u001b[38;5;28;01melif\u001b[39;00m \u001b[38;5;28mhasattr\u001b[39m(filename, \u001b[38;5;124m\"\u001b[39m\u001b[38;5;124mread\u001b[39m\u001b[38;5;124m\"\u001b[39m) \u001b[38;5;129;01mor\u001b[39;00m \u001b[38;5;28mhasattr\u001b[39m(filename, \u001b[38;5;124m\"\u001b[39m\u001b[38;5;124mwrite\u001b[39m\u001b[38;5;124m\"\u001b[39m):\n\u001b[0;32m     60\u001b[0m     binary_file \u001b[38;5;241m=\u001b[39m GzipFile(\u001b[38;5;28;01mNone\u001b[39;00m, gz_mode, compresslevel, filename)\n",
      "File \u001b[1;32mC:\\ProgramData\\Anaconda3\\lib\\gzip.py:173\u001b[0m, in \u001b[0;36mGzipFile.__init__\u001b[1;34m(self, filename, mode, compresslevel, fileobj, mtime)\u001b[0m\n\u001b[0;32m    171\u001b[0m     mode \u001b[38;5;241m+\u001b[39m\u001b[38;5;241m=\u001b[39m \u001b[38;5;124m'\u001b[39m\u001b[38;5;124mb\u001b[39m\u001b[38;5;124m'\u001b[39m\n\u001b[0;32m    172\u001b[0m \u001b[38;5;28;01mif\u001b[39;00m fileobj \u001b[38;5;129;01mis\u001b[39;00m \u001b[38;5;28;01mNone\u001b[39;00m:\n\u001b[1;32m--> 173\u001b[0m     fileobj \u001b[38;5;241m=\u001b[39m \u001b[38;5;28mself\u001b[39m\u001b[38;5;241m.\u001b[39mmyfileobj \u001b[38;5;241m=\u001b[39m \u001b[43mbuiltins\u001b[49m\u001b[38;5;241;43m.\u001b[39;49m\u001b[43mopen\u001b[49m\u001b[43m(\u001b[49m\u001b[43mfilename\u001b[49m\u001b[43m,\u001b[49m\u001b[43m \u001b[49m\u001b[43mmode\u001b[49m\u001b[43m \u001b[49m\u001b[38;5;129;43;01mor\u001b[39;49;00m\u001b[43m \u001b[49m\u001b[38;5;124;43m'\u001b[39;49m\u001b[38;5;124;43mrb\u001b[39;49m\u001b[38;5;124;43m'\u001b[39;49m\u001b[43m)\u001b[49m\n\u001b[0;32m    174\u001b[0m \u001b[38;5;28;01mif\u001b[39;00m filename \u001b[38;5;129;01mis\u001b[39;00m \u001b[38;5;28;01mNone\u001b[39;00m:\n\u001b[0;32m    175\u001b[0m     filename \u001b[38;5;241m=\u001b[39m \u001b[38;5;28mgetattr\u001b[39m(fileobj, \u001b[38;5;124m'\u001b[39m\u001b[38;5;124mname\u001b[39m\u001b[38;5;124m'\u001b[39m, \u001b[38;5;124m'\u001b[39m\u001b[38;5;124m'\u001b[39m)\n",
      "\u001b[1;31mFileNotFoundError\u001b[0m: [Errno 2] No such file or directory: 'reviews_Musical_Instruments_5.json.gz'"
     ]
    }
   ],
   "source": [
    "def parse(path):\n",
    "    g=gzip.open(path,'rb')\n",
    "    for l in g:\n",
    "        yield eval(l)\n",
    "def getDF(path):\n",
    "    i=0\n",
    "    df={}\n",
    "    for d in parse(path):\n",
    "        df[i]=d\n",
    "        i+=1\n",
    "    return pd.DataFrame.from_dict(df,orient='index')\n",
    "df=getDF(\"reviews_Musical_Instruments_5.json.gz\")"
   ]
  },
  {
   "cell_type": "code",
   "execution_count": null,
   "id": "9e4195ce",
   "metadata": {},
   "outputs": [],
   "source": [
    "df.head()"
   ]
  },
  {
   "cell_type": "raw",
   "id": "3e69da54",
   "metadata": {},
   "source": [
    "some intetrpretation about data:\n",
    "*Asian represent the product ID.\n",
    "*IN helpful column represent the helpfullness rating of the review.\n",
    "*overall represent the rating given by the reviewer."
   ]
  },
  {
   "cell_type": "markdown",
   "id": "bceb122c",
   "metadata": {},
   "source": [
    "#### hear sentiment is rating of 5,4 are positive.3 is neutral and 3,2 are negative."
   ]
  },
  {
   "cell_type": "code",
   "execution_count": null,
   "id": "54ebee12",
   "metadata": {},
   "outputs": [],
   "source": [
    "df=df.drop([\"reviewerName\"],axis=1)\n",
    "df=df.rename(columns={\"asin\":\"productID\",\"overall\":\"rating\",\"unixReviewTime\":\"unixTime\"})\n",
    "df.head()"
   ]
  },
  {
   "cell_type": "markdown",
   "id": "298e8bce",
   "metadata": {},
   "source": [
    "#### There is no null values present in the dataset"
   ]
  },
  {
   "cell_type": "code",
   "execution_count": null,
   "id": "6994daea",
   "metadata": {},
   "outputs": [],
   "source": [
    "df[\"reviewTime\"]=pd.to_datetime(df[\"reviewTime\"])\n"
   ]
  },
  {
   "cell_type": "code",
   "execution_count": null,
   "id": "5fa22fba",
   "metadata": {},
   "outputs": [],
   "source": [
    "df=df.drop([\"unixTime\"],axis=1)\n",
    "df.head()"
   ]
  },
  {
   "cell_type": "code",
   "execution_count": null,
   "id": "c1c5ce15",
   "metadata": {},
   "outputs": [],
   "source": [
    "df[\"sentiment\"]=df['rating']\n",
    "df[\"sentiment\"]=df[\"sentiment\"].replace({1:\"extreme_negative\",2:\"negative\",3:\"neutral\",4:\"positive\",5:\"extreme_positive\"})\n",
    "df.head()"
   ]
  },
  {
   "cell_type": "code",
   "execution_count": null,
   "id": "bc4c8b7d",
   "metadata": {},
   "outputs": [],
   "source": [
    "df.size"
   ]
  },
  {
   "cell_type": "code",
   "execution_count": null,
   "id": "dc1a7f7a",
   "metadata": {},
   "outputs": [],
   "source": [
    "df.shape"
   ]
  },
  {
   "cell_type": "code",
   "execution_count": null,
   "id": "98f5f29f",
   "metadata": {},
   "outputs": [],
   "source": [
    "df.columns"
   ]
  },
  {
   "cell_type": "code",
   "execution_count": null,
   "id": "ede78856",
   "metadata": {},
   "outputs": [],
   "source": [
    "df.dtypes"
   ]
  },
  {
   "cell_type": "code",
   "execution_count": null,
   "id": "1735e242",
   "metadata": {},
   "outputs": [],
   "source": [
    "df.isnull().sum()"
   ]
  },
  {
   "cell_type": "code",
   "execution_count": null,
   "id": "c4fe5772",
   "metadata": {},
   "outputs": [],
   "source": [
    "df.describe()"
   ]
  },
  {
   "cell_type": "markdown",
   "id": "0ffb00a2",
   "metadata": {},
   "source": [
    "## Data visualization"
   ]
  },
  {
   "cell_type": "code",
   "execution_count": null,
   "id": "302b0390",
   "metadata": {},
   "outputs": [],
   "source": [
    "import warnings\n",
    "warnings.filterwarnings('ignore')"
   ]
  },
  {
   "cell_type": "code",
   "execution_count": null,
   "id": "930b88ff",
   "metadata": {},
   "outputs": [],
   "source": [
    "plt.figure(figsize=(10,7))\n",
    "sb.countplot(df['rating'])\n",
    "plt.title('Ratings of musical instruments')\n",
    "plt.xlabel('rating')\n",
    "plt.show()"
   ]
  },
  {
   "cell_type": "code",
   "execution_count": null,
   "id": "bac0c0d6",
   "metadata": {},
   "outputs": [],
   "source": [
    "fig, ax = plt.subplots(figsize = (10,8))\n",
    "ax.set_title(\"rating\")\n",
    "percentage = df['rating'].value_counts()\n",
    "labels = list(df['rating'].value_counts().index)\n",
    "plt.pie(percentage, labels = labels, autopct = '%0.2f%%', explode = (0.1,0,0,0,0))\n",
    "plt.show()"
   ]
  },
  {
   "cell_type": "code",
   "execution_count": null,
   "id": "228251e1",
   "metadata": {},
   "outputs": [],
   "source": [
    "fig, ax = plt.subplots(figsize = (8,8))\n",
    "ax.set_title(\"sentiment\")\n",
    "percentage = df['sentiment'].value_counts()\n",
    "labels = list(df['sentiment'].value_counts().index)\n",
    "plt.pie(percentage, labels = labels, autopct = '%0.2f%%')\n",
    "plt.show()"
   ]
  },
  {
   "cell_type": "code",
   "execution_count": null,
   "id": "aa369013",
   "metadata": {},
   "outputs": [],
   "source": [
    "df[\"reviewyear\"]=df['reviewTime'].dt.year\n",
    "df.head()"
   ]
  },
  {
   "cell_type": "code",
   "execution_count": null,
   "id": "6907ea85",
   "metadata": {},
   "outputs": [],
   "source": [
    "plt.figure(figsize = (8,5))\n",
    "sb.barplot(data = df, x = 'reviewyear', y = 'rating', palette = 'cool', ci = False)\n",
    "plt.title(\"year wise rating\")\n",
    "plt.show()"
   ]
  },
  {
   "cell_type": "code",
   "execution_count": null,
   "id": "9a8960aa",
   "metadata": {},
   "outputs": [],
   "source": [
    "plt.figure(figsize=(15,7))\n",
    "sb.countplot(df['reviewyear'],hue=df['sentiment'])\n",
    "plt.title('year wise sentiment')\n",
    "plt.show()"
   ]
  },
  {
   "cell_type": "code",
   "execution_count": null,
   "id": "ee6b834d",
   "metadata": {},
   "outputs": [],
   "source": [
    "plt.figure(figsize=(7,5))\n",
    "sb.histplot(df['rating'],kde=True)\n",
    "plt.title('year wise sentiment')\n",
    "plt.show()"
   ]
  },
  {
   "cell_type": "code",
   "execution_count": null,
   "id": "bc953857",
   "metadata": {},
   "outputs": [],
   "source": [
    "df.to_csv(\"musical_instruments\")"
   ]
  },
  {
   "cell_type": "code",
   "execution_count": null,
   "id": "38dd999c",
   "metadata": {},
   "outputs": [],
   "source": [
    "df['productID'].value_counts()[:10].plot.bar(figsize=(15,7),color='red')\n",
    "plt.title(\"10 most reviewd products\",fontsize=20)\n",
    "plt.xlabel('product id')\n",
    "plt.show()"
   ]
  },
  {
   "cell_type": "code",
   "execution_count": null,
   "id": "1616de3d",
   "metadata": {},
   "outputs": [],
   "source": [
    "import re\n",
    "\n",
    "def clean_text(text):\n",
    "    text=re.sub(\"[^0-9A-Za-z\\-]+\",\" \",text)#remoce special characters\n",
    "    text=re.sub(\"(?<!\\w)\\d+\",\"\",text)  #if number is written after a word remove it\n",
    "    text=re.sub(\"-(?!\\w)\",\"\",text)  #remove hyphen except for words which need hyphen tik-tok \n",
    "    text=\" \".join(text.split())\n",
    "    text=text.lower()\n",
    "    return text"
   ]
  },
  {
   "cell_type": "code",
   "execution_count": null,
   "id": "1ec42356",
   "metadata": {},
   "outputs": [],
   "source": [
    "df['reviewText']=df['reviewText'].apply(clean_text)\n",
    "df['reviewText'][2]"
   ]
  },
  {
   "cell_type": "code",
   "execution_count": null,
   "id": "f2025616",
   "metadata": {},
   "outputs": [],
   "source": [
    "df['rating'].value_counts()"
   ]
  },
  {
   "cell_type": "code",
   "execution_count": null,
   "id": "2f8ea07d",
   "metadata": {},
   "outputs": [],
   "source": [
    "df['sentiment'].value_counts()"
   ]
  },
  {
   "cell_type": "code",
   "execution_count": null,
   "id": "f22126b6",
   "metadata": {},
   "outputs": [],
   "source": [
    "df['reviewyear'].value_counts()"
   ]
  },
  {
   "cell_type": "code",
   "execution_count": null,
   "id": "136114a6",
   "metadata": {},
   "outputs": [],
   "source": [
    "df.groupby(['reviewyear','sentiment']).size()"
   ]
  },
  {
   "cell_type": "code",
   "execution_count": null,
   "id": "19e9f4ee",
   "metadata": {},
   "outputs": [],
   "source": [
    "df['productID'].unique()"
   ]
  },
  {
   "cell_type": "code",
   "execution_count": null,
   "id": "fb4d4cda",
   "metadata": {},
   "outputs": [],
   "source": [
    "product_rating={}\n",
    "for row,product in enumerate(df['productID'].unique()):\n",
    "    product_temp=df[df[\"productID\"]==product]\n",
    "    product_rating[product]=product_temp['rating'].mean()"
   ]
  },
  {
   "cell_type": "code",
   "execution_count": null,
   "id": "27f84cdb",
   "metadata": {},
   "outputs": [],
   "source": [
    "df_product_rating=pd.DataFrame(list(product_rating.items()),columns=['productId',\"rating\"])\n",
    "df_product_rating.head()"
   ]
  },
  {
   "cell_type": "code",
   "execution_count": null,
   "id": "07aea718",
   "metadata": {},
   "outputs": [],
   "source": [
    "df_product_rating[df_product_rating['rating']==df_product_rating['rating'].min()]"
   ]
  },
  {
   "cell_type": "markdown",
   "id": "60e7487c",
   "metadata": {},
   "source": [
    "#### 2.71(the sentiment is negative) is the minimum rating and productid is B0025V1REU"
   ]
  },
  {
   "cell_type": "code",
   "execution_count": null,
   "id": "bd361c57",
   "metadata": {},
   "outputs": [],
   "source": [
    "d=df[df['productID']=='B0025V1REU']\n",
    "d"
   ]
  },
  {
   "cell_type": "code",
   "execution_count": null,
   "id": "ab2c5e65",
   "metadata": {},
   "outputs": [],
   "source": [
    "d['reviewText'].iloc[3]"
   ]
  },
  {
   "cell_type": "code",
   "execution_count": null,
   "id": "52ee7f74",
   "metadata": {},
   "outputs": [],
   "source": [
    "d['reviewText'].iloc[5]"
   ]
  },
  {
   "cell_type": "code",
   "execution_count": null,
   "id": "907f966e",
   "metadata": {},
   "outputs": [],
   "source": [
    "d['reviewText'].iloc[6]"
   ]
  },
  {
   "cell_type": "markdown",
   "id": "fe62fe95",
   "metadata": {},
   "source": [
    "###### yes,these are reyally dissapointed"
   ]
  },
  {
   "cell_type": "code",
   "execution_count": null,
   "id": "001d1bd3",
   "metadata": {},
   "outputs": [],
   "source": [
    "df['reviewText'].iloc[:5]"
   ]
  },
  {
   "cell_type": "code",
   "execution_count": null,
   "id": "0d33b2cd",
   "metadata": {},
   "outputs": [],
   "source": [
    "len(df['reviewText'])"
   ]
  },
  {
   "cell_type": "code",
   "execution_count": null,
   "id": "30ee29a5",
   "metadata": {},
   "outputs": [],
   "source": [
    "#!pip install textblob"
   ]
  },
  {
   "cell_type": "code",
   "execution_count": null,
   "id": "a3a8665a",
   "metadata": {},
   "outputs": [],
   "source": [
    "from textblob import TextBlob"
   ]
  },
  {
   "cell_type": "code",
   "execution_count": null,
   "id": "7a4e6440",
   "metadata": {},
   "outputs": [],
   "source": [
    "blob=TextBlob(df['reviewText'][1])\n",
    "blob.sentiment"
   ]
  },
  {
   "cell_type": "code",
   "execution_count": null,
   "id": "960bc0cb",
   "metadata": {},
   "outputs": [],
   "source": [
    "polarity_list,subjectivity_list=[],[]\n",
    "for i in range(len(df['reviewText'])):\n",
    "    blob=TextBlob(df['reviewText'][i])\n",
    "    polarity_list.append(blob.sentiment.polarity)\n",
    "    subjectivity_list.append(blob.sentiment.subjectivity)"
   ]
  },
  {
   "cell_type": "code",
   "execution_count": null,
   "id": "b87f64e5",
   "metadata": {},
   "outputs": [],
   "source": [
    "print(polarity_list[:5])\n",
    "print(subjectivity_list[:5])"
   ]
  },
  {
   "cell_type": "code",
   "execution_count": null,
   "id": "38e44f5a",
   "metadata": {},
   "outputs": [],
   "source": [
    "sb.distplot(polarity_list)\n",
    "plt.show()"
   ]
  },
  {
   "cell_type": "code",
   "execution_count": null,
   "id": "a9b64dad",
   "metadata": {},
   "outputs": [],
   "source": [
    "sb.distplot(subjectivity_list)\n",
    "plt.show()"
   ]
  },
  {
   "cell_type": "code",
   "execution_count": null,
   "id": "4aaafd2b",
   "metadata": {},
   "outputs": [],
   "source": [
    "from scipy import stats\n",
    "stats.describe(polarity_list)"
   ]
  },
  {
   "cell_type": "code",
   "execution_count": null,
   "id": "fb451dd8",
   "metadata": {},
   "outputs": [],
   "source": [
    "stats.describe(subjectivity_list)"
   ]
  },
  {
   "cell_type": "markdown",
   "id": "16a0cfb5",
   "metadata": {},
   "source": [
    "##### highly positive reviews"
   ]
  },
  {
   "cell_type": "code",
   "execution_count": null,
   "id": "ae01cda5",
   "metadata": {},
   "outputs": [],
   "source": [
    "c=0\n",
    "for i in range(len(polarity_list)):\n",
    "    if(c>10):break\n",
    "    if(polarity_list[i]>.9 and c<10):\n",
    "        print(df['reviewText'][i],\"\\n\")\n",
    "        c+=1"
   ]
  },
  {
   "cell_type": "markdown",
   "id": "8a5289b6",
   "metadata": {},
   "source": [
    "##### highly negative reviws"
   ]
  },
  {
   "cell_type": "code",
   "execution_count": null,
   "id": "4127972d",
   "metadata": {},
   "outputs": [],
   "source": [
    "c=0\n",
    "for i in range(len(polarity_list)):\n",
    "    if(c>10):break\n",
    "    if(polarity_list[i]<.9 and c<10):\n",
    "        print(df['reviewText'][i],\"\\n\")\n",
    "        c+=1"
   ]
  },
  {
   "cell_type": "markdown",
   "id": "e14d0284",
   "metadata": {},
   "source": [
    "##### objective revies"
   ]
  },
  {
   "cell_type": "code",
   "execution_count": null,
   "id": "3ac6f78b",
   "metadata": {},
   "outputs": [],
   "source": [
    "c=0\n",
    "for i in range(len(subjectivity_list)):\n",
    "    if(c>10):break\n",
    "    if(subjectivity_list[i]>.9 and c<10):\n",
    "        print(df['reviewText'][i],\"\\n\")\n",
    "        c+=1"
   ]
  },
  {
   "cell_type": "markdown",
   "id": "241fc19b",
   "metadata": {},
   "source": [
    "##### subjective reviews"
   ]
  },
  {
   "cell_type": "code",
   "execution_count": null,
   "id": "ebee9189",
   "metadata": {},
   "outputs": [],
   "source": [
    "c=0\n",
    "for i in range(len(subjectivity_list)):\n",
    "    if(c>10):break\n",
    "    if(subjectivity_list[i]<.1 and c<10):\n",
    "        print(df['reviewText'][i],\"\\n\")\n",
    "        c+=1"
   ]
  },
  {
   "cell_type": "markdown",
   "id": "87495539",
   "metadata": {},
   "source": [
    "##### neutral reviews"
   ]
  },
  {
   "cell_type": "code",
   "execution_count": null,
   "id": "fd28ae8c",
   "metadata": {},
   "outputs": [],
   "source": [
    "c=0\n",
    "for i in range(len(polarity_list)):\n",
    "    if(c>10):break\n",
    "    if(polarity_list[i]==0 and c<10):\n",
    "        print(df['reviewText'][i],\"\\n\")\n",
    "        c+=1"
   ]
  },
  {
   "cell_type": "code",
   "execution_count": null,
   "id": "41a83aba",
   "metadata": {},
   "outputs": [],
   "source": [
    "from sklearn.model_selection import train_test_split\n",
    "import nltk\n",
    "from nltk.corpus import stopwords\n",
    "from sklearn.feature_extraction.text import TfidfVectorizer"
   ]
  },
  {
   "cell_type": "code",
   "execution_count": null,
   "id": "214bb783",
   "metadata": {},
   "outputs": [],
   "source": [
    "#! pip install wordcloud"
   ]
  },
  {
   "cell_type": "code",
   "execution_count": null,
   "id": "454b6e7b",
   "metadata": {},
   "outputs": [],
   "source": [
    "from wordcloud import WordCloud, STOPWORDS, ImageColorGenerator\n",
    "from sklearn.feature_extraction.text import CountVectorizer"
   ]
  },
  {
   "cell_type": "code",
   "execution_count": null,
   "id": "daa0e740",
   "metadata": {},
   "outputs": [],
   "source": [
    "cnv = CountVectorizer(stop_words = 'english')\n",
    "wrds = cnv.fit_transform(df[\"reviewText\"])\n",
    "sum_wrds = wrds.sum(axis = 0)\n",
    "\n",
    "wrds_freq = [(wrd, sum_wrds[0, idx]) for wrd, idx in cnv.vocabulary_.items()]\n",
    "wrds_freq = sorted(wrds_freq, key = lambda x : x[1], reverse = True)\n",
    "freq = pd.DataFrame(wrds_freq, columns = ['word', 'frequency'])\n",
    "\n",
    "wrdcloud = WordCloud().generate_from_frequencies(dict(wrds_freq))\n",
    "\n",
    "plt.figure(figsize = (12,8))\n",
    "plt.title(\"Most Commonly used Words\")\n",
    "plt.imshow(wrdcloud)\n",
    "plt.show()"
   ]
  },
  {
   "cell_type": "code",
   "execution_count": null,
   "id": "6d839546",
   "metadata": {},
   "outputs": [],
   "source": [
    "# separating all records into a differnet variable to generate wordcloud based on category\n",
    "neu = df[df[\"sentiment\"] == \"neutral\"][\"reviewText\"]\n",
    "neg = df[df[\"sentiment\"] == \"negative\"][\"reviewText\"]\n",
    "pos = df[df[\"sentiment\"] == \"positive\"][\"reviewText\"]\n",
    "exneg = df[df[\"sentiment\"] == \"extreme_negative\"][\"reviewText\"]\n",
    "expos = df[df[\"sentiment\"] == \"extreme_positive\"][\"reviewText\"]"
   ]
  },
  {
   "cell_type": "code",
   "execution_count": null,
   "id": "8ed8a83b",
   "metadata": {},
   "outputs": [],
   "source": []
  },
  {
   "cell_type": "code",
   "execution_count": null,
   "id": "77b748d5",
   "metadata": {},
   "outputs": [],
   "source": [
    "stpwrds = set(STOPWORDS)\n",
    "def word_cloud(data, title):\n",
    "    wordcld = WordCloud(\n",
    "    background_color = \"black\",\n",
    "    max_font_size = 40,\n",
    "    max_words = 200,\n",
    "    stopwords = stpwrds,\n",
    "    scale = 3).generate(str(data))\n",
    "    fig = plt.figure(figsize = (7.5, 7.5))\n",
    "    plt.axis(\"off\")\n",
    "    if title:\n",
    "        fig.suptitle(title, fontsize = 20)\n",
    "        fig.subplots_adjust(top = 2.25)\n",
    "    plt.imshow(wordcld)\n",
    "plt.show()"
   ]
  },
  {
   "cell_type": "code",
   "execution_count": null,
   "id": "049b8009",
   "metadata": {},
   "outputs": [],
   "source": [
    "# Generating wordcloud based on category\n",
    "word_cloud(neu, \"Most Repeated words in neutral reviews\")\n",
    "word_cloud(neg, \"Most Repeated words in negative reviews\")\n",
    "word_cloud(pos, \"Most Repeated words in positive reviews\")\n",
    "word_cloud(exneg, \"Most Repeated words in extreme negative reviews\")\n",
    "word_cloud(expos, \"Most Repeated words in extreme positive reviews\")"
   ]
  },
  {
   "cell_type": "code",
   "execution_count": null,
   "id": "ff7731da",
   "metadata": {},
   "outputs": [],
   "source": []
  },
  {
   "cell_type": "code",
   "execution_count": null,
   "id": "be0c0fe9",
   "metadata": {},
   "outputs": [],
   "source": []
  },
  {
   "cell_type": "code",
   "execution_count": null,
   "id": "abcc39e0",
   "metadata": {},
   "outputs": [],
   "source": [
    "df[\"target\"] = df[\"sentiment\"]\n",
    "df[\"target\"] = df[\"target\"].replace({\"extreme_negative\":\"0\",\"negative\":\"0\",\"neutral\":\"0\",\"positive\":\"1\",\"extreme_positive\":\"1\"})\n",
    "df.head(2)"
   ]
  },
  {
   "cell_type": "code",
   "execution_count": null,
   "id": "156dc892",
   "metadata": {},
   "outputs": [],
   "source": [
    "x_train,x_test,y_train,y_test=train_test_split(df['reviewText'],df['target'],test_size=0.20,random_state=42)"
   ]
  },
  {
   "cell_type": "code",
   "execution_count": null,
   "id": "fcbd7eb8",
   "metadata": {},
   "outputs": [],
   "source": [
    "vectorizer=TfidfVectorizer(\n",
    "    sublinear_tf=True,\n",
    "    max_df=0.5,\n",
    "    min_df=1,\n",
    "    stop_words=stopwords.words(\"english\"),\n",
    "    use_idf=True\n",
    ")"
   ]
  },
  {
   "cell_type": "code",
   "execution_count": null,
   "id": "683b3d0f",
   "metadata": {},
   "outputs": [],
   "source": [
    "x_train=vectorizer.fit_transform(x_train)\n",
    "print('x_train n_samples:%d,n_features:%d' %x_train.shape)"
   ]
  },
  {
   "cell_type": "code",
   "execution_count": null,
   "id": "90cabc6d",
   "metadata": {},
   "outputs": [],
   "source": [
    "x_test=vectorizer.transform(x_test)\n",
    "print('x_test n_samples:%d,n_features:%d' %x_test.shape)"
   ]
  },
  {
   "cell_type": "code",
   "execution_count": null,
   "id": "754e713a",
   "metadata": {},
   "outputs": [],
   "source": [
    "cv=TfidfVectorizer(max_features=2500)\n",
    "x=cv.fit_transform(df['reviewText'])"
   ]
  },
  {
   "cell_type": "code",
   "execution_count": null,
   "id": "be9b4a99",
   "metadata": {},
   "outputs": [],
   "source": [
    "from sklearn.linear_model import LogisticRegression\n",
    "from sklearn.metrics import accuracy_score,precision_score,recall_score,f1_score\n",
    "from sklearn.metrics import confusion_matrix\n",
    "from sklearn import metrics"
   ]
  },
  {
   "cell_type": "code",
   "execution_count": null,
   "id": "e5c9f0d3",
   "metadata": {},
   "outputs": [],
   "source": [
    "model=LogisticRegression()\n",
    "model.fit(x_train,y_train)\n",
    "pred=model.predict(x_test)"
   ]
  },
  {
   "cell_type": "code",
   "execution_count": null,
   "id": "ab80d2b3",
   "metadata": {},
   "outputs": [],
   "source": [
    "print(pred[:10])\n",
    "print(y_test[:10])"
   ]
  },
  {
   "cell_type": "code",
   "execution_count": null,
   "id": "faaccce0",
   "metadata": {},
   "outputs": [],
   "source": [
    "accuracy=accuracy_score(y_test,pred)\n",
    "precision=precision_score(y_test,pred,average='weighted')\n",
    "f1=f1_score(y_test,pred,average='weighted')\n",
    "recall=recall_score(y_test,pred,average='weighted')\n",
    "print(\"accuracy=\",accuracy)\n",
    "print('precision=',precision)\n",
    "print('f1=',f1)\n",
    "print('recall=',recall)"
   ]
  },
  {
   "cell_type": "code",
   "execution_count": null,
   "id": "2fcbe777",
   "metadata": {},
   "outputs": [],
   "source": [
    "from sklearn.naive_bayes import MultinomialNB\n",
    "from sklearn.ensemble import RandomForestClassifier"
   ]
  },
  {
   "cell_type": "code",
   "execution_count": null,
   "id": "ab02d446",
   "metadata": {},
   "outputs": [],
   "source": [
    "nb=MultinomialNB().fit(x_train,y_train)\n",
    "y_pred=nb.predict(x_test)"
   ]
  },
  {
   "cell_type": "code",
   "execution_count": null,
   "id": "0d1dc54e",
   "metadata": {},
   "outputs": [],
   "source": [
    "y_pred[:10]"
   ]
  },
  {
   "cell_type": "code",
   "execution_count": null,
   "id": "84927a01",
   "metadata": {},
   "outputs": [],
   "source": [
    "y_test[:10]"
   ]
  },
  {
   "cell_type": "code",
   "execution_count": null,
   "id": "deb50588",
   "metadata": {},
   "outputs": [],
   "source": [
    "from sklearn.metrics import accuracy_score,precision_score,f1_score,recall_score"
   ]
  },
  {
   "cell_type": "code",
   "execution_count": null,
   "id": "872a6f54",
   "metadata": {},
   "outputs": [],
   "source": [
    "accuracy=accuracy_score(y_test,y_pred)\n",
    "precision=precision_score(y_test,y_pred,average='weighted')\n",
    "f1=f1_score(y_test,y_pred,average='weighted')\n",
    "recall=recall_score(y_test,y_pred,average='weighted')\n",
    "print(\"accuracy=\",accuracy)\n",
    "print('precision=',precision)\n",
    "print('f1=',f1)\n",
    "print('recall=',recall)"
   ]
  },
  {
   "cell_type": "code",
   "execution_count": null,
   "id": "80108b7a",
   "metadata": {},
   "outputs": [],
   "source": [
    "from sklearn.ensemble import RandomForestClassifier\n",
    "model1 = RandomForestClassifier().fit(x_train,y_train)\n",
    "y_pred1=model1.predict(x_test)"
   ]
  },
  {
   "cell_type": "code",
   "execution_count": null,
   "id": "d78792bc",
   "metadata": {},
   "outputs": [],
   "source": [
    "y_pred1"
   ]
  },
  {
   "cell_type": "code",
   "execution_count": null,
   "id": "55c0560c",
   "metadata": {},
   "outputs": [],
   "source": [
    "y_test"
   ]
  },
  {
   "cell_type": "code",
   "execution_count": null,
   "id": "d70e1c34",
   "metadata": {},
   "outputs": [],
   "source": [
    "accuracy=accuracy_score(y_test,y_pred1)\n",
    "precision=precision_score(y_test,y_pred1,average='weighted')\n",
    "f1=f1_score(y_test,y_pred1,average='weighted')\n",
    "recall=recall_score(y_test,y_pred1,average='weighted')\n",
    "print(\"accuracy=\",accuracy)\n",
    "print('precision=',precision)\n",
    "print('f1=',f1)\n",
    "print('recall=',recall)"
   ]
  },
  {
   "cell_type": "code",
   "execution_count": null,
   "id": "6a03aba7",
   "metadata": {},
   "outputs": [],
   "source": [
    "cm=confusion_matrix(y_test,pred)\n",
    "cm_display=metrics.ConfusionMatrixDisplay(confusion_matrix=cm,display_labels=[False,True])\n",
    "cm_display.plot()\n",
    "plt.show()"
   ]
  },
  {
   "cell_type": "markdown",
   "id": "1203e167",
   "metadata": {},
   "source": [
    "###### clustering"
   ]
  },
  {
   "cell_type": "code",
   "execution_count": null,
   "id": "eacacb73",
   "metadata": {},
   "outputs": [],
   "source": [
    "from sklearn.cluster import KMeans"
   ]
  },
  {
   "cell_type": "code",
   "execution_count": null,
   "id": "ac6a99d4",
   "metadata": {},
   "outputs": [],
   "source": [
    "df33=pd.DataFrame(polarity_list)"
   ]
  },
  {
   "cell_type": "code",
   "execution_count": null,
   "id": "53ade99d",
   "metadata": {},
   "outputs": [],
   "source": [
    "df33['overall']=df['rating']"
   ]
  },
  {
   "cell_type": "code",
   "execution_count": null,
   "id": "47caed08",
   "metadata": {},
   "outputs": [],
   "source": [
    "df33"
   ]
  },
  {
   "cell_type": "code",
   "execution_count": null,
   "id": "ce204036",
   "metadata": {},
   "outputs": [],
   "source": [
    "distorsions = []\n",
    "for k in range(2, 7):\n",
    "    kmeans = KMeans(n_clusters=k)\n",
    "    kmeans.fit(df33)\n",
    "    distorsions.append(kmeans.inertia_)\n",
    "\n",
    "fig = plt.figure(figsize=(15, 5))\n",
    "plt.plot(range(2, 7), distorsions)\n",
    "plt.grid(True)\n",
    "plt.xlabel('K')\n",
    "plt.ylabel('Distorsions')\n",
    "plt.title('Elbow curve');"
   ]
  },
  {
   "cell_type": "code",
   "execution_count": null,
   "id": "96c0ac7f",
   "metadata": {},
   "outputs": [],
   "source": [
    "from sklearn.metrics import silhouette_samples, silhouette_score\n",
    "import matplotlib.cm as cm\n",
    "import numpy as np\n",
    "\n",
    "range_n_clusters = [2, 3, 4, 5, 6, 7]\n",
    "\n",
    "for n_clusters in range_n_clusters:\n",
    "    # Create a subplot with 1 row and 2 columns\n",
    "    fig, ax1 = plt.subplots(1, 1)\n",
    "    ax1.set_xlim([-0.1, 1])\n",
    "    ax1.set_ylim([0, len(df) + (n_clusters + 1) * 10])\n",
    "\n",
    "    clusterer = KMeans(n_clusters=n_clusters, random_state=10)\n",
    "    cluster_labels = clusterer.fit_predict(df33)\n",
    "\n",
    "    silhouette_avg = silhouette_score(df33, cluster_labels)\n",
    "    print(\"For n_clusters =\", n_clusters,\n",
    "          \"The average silhouette_score is :\", silhouette_avg)\n",
    "\n",
    "    # Compute the silhouette scores for each sample\n",
    "    sample_silhouette_values = silhouette_samples(df33, cluster_labels)\n",
    "\n",
    "    y_lower = 10\n",
    "    for i in range(n_clusters):\n",
    "        ith_cluster_silhouette_values = sample_silhouette_values[cluster_labels == i]\n",
    "\n",
    "        ith_cluster_silhouette_values.sort()\n",
    "\n",
    "        size_cluster_i = ith_cluster_silhouette_values.shape[0]\n",
    "        y_upper = y_lower + size_cluster_i\n",
    "\n",
    "        color = cm.nipy_spectral(float(i) / n_clusters)\n",
    "        ax1.fill_betweenx(np.arange(y_lower, y_upper),\n",
    "                          0, ith_cluster_silhouette_values,\n",
    "                          facecolor=color, edgecolor=color, alpha=0.7)\n",
    "\n",
    "        # Label the silhouette plots with their cluster numbers at the middle\n",
    "        ax1.text(-0.05, y_lower + 0.5 * size_cluster_i, str(i))\n",
    "\n",
    "        # Compute the new y_lower for next plot\n",
    "        y_lower = y_upper + 10  # 10 for the 0 samples\n",
    "\n",
    "    ax1.set_xlabel(\"The silhouette coefficient values\")\n",
    "    ax1.set_ylabel(\"Cluster label\")\n",
    "    # The vertical line for average silhouette score of all the values\n",
    "    ax1.axvline(x=silhouette_avg, color=\"red\", linestyle=\"--\")\n",
    "    ax1.set_yticks([])  # Clear the yaxis labels / ticks\n",
    "    ax1.set_xticks([-0.1, 0, 0.2, 0.4, 0.6, 0.8, 1])\n",
    "\n",
    "plt.show()"
   ]
  },
  {
   "cell_type": "code",
   "execution_count": null,
   "id": "03fa8176",
   "metadata": {},
   "outputs": [],
   "source": [
    "Kmeans_model = KMeans(n_clusters=4)\n",
    "Kmeans_model.fit(df33)"
   ]
  },
  {
   "cell_type": "code",
   "execution_count": null,
   "id": "41f2f58a",
   "metadata": {},
   "outputs": [],
   "source": [
    "cluster_centroid = Kmeans_model.cluster_centers_\n",
    "cluster_centroid"
   ]
  },
  {
   "cell_type": "code",
   "execution_count": null,
   "id": "7bedca1d",
   "metadata": {},
   "outputs": [],
   "source": [
    "labels = Kmeans_model.labels_\n",
    "labels[:10]"
   ]
  },
  {
   "cell_type": "code",
   "execution_count": null,
   "id": "76d2d148",
   "metadata": {},
   "outputs": [],
   "source": [
    "pred=Kmeans_model.fit_predict(df33)\n",
    "pred[:10]"
   ]
  },
  {
   "cell_type": "code",
   "execution_count": null,
   "id": "46dcffcd",
   "metadata": {},
   "outputs": [],
   "source": [
    "x=df33.iloc[:,[0,1]].values"
   ]
  },
  {
   "cell_type": "code",
   "execution_count": null,
   "id": "aaf133d7",
   "metadata": {},
   "outputs": [],
   "source": [
    "plt.scatter(x[pred == 0, 0], x[pred == 0, 1], s = 50, c = 'red')\n",
    "plt.scatter(x[pred == 1, 0], x[pred == 1, 1], s = 50, c = 'blue')\n",
    "plt.scatter(x[pred == 2, 0], x[pred == 2, 1], s = 50, c = 'green')\n",
    "plt.scatter(x[pred == 3, 0], x[pred == 3, 1], s = 50, c = 'cyan')\n",
    "plt.title('Clusters based on polarityscore')\n",
    "plt.xlabel('polarity score')\n",
    "plt.ylabel('overall score')\n",
    "plt.legend()\n",
    "plt.show()"
   ]
  },
  {
   "cell_type": "markdown",
   "id": "e7ac457c",
   "metadata": {},
   "source": [
    "###### time series analysis"
   ]
  },
  {
   "cell_type": "code",
   "execution_count": null,
   "id": "a000eecd",
   "metadata": {},
   "outputs": [],
   "source": [
    "df2=pd.DataFrame(df['rating'])\n",
    "df2"
   ]
  },
  {
   "cell_type": "code",
   "execution_count": null,
   "id": "abd97dd8",
   "metadata": {},
   "outputs": [],
   "source": [
    "df2['reviewTime']=df['reviewTime']\n",
    "df2"
   ]
  },
  {
   "cell_type": "code",
   "execution_count": null,
   "id": "c7c31519",
   "metadata": {},
   "outputs": [],
   "source": [
    "df2=df2.groupby('reviewTime').sum()\n",
    "df2"
   ]
  },
  {
   "cell_type": "code",
   "execution_count": null,
   "id": "7558e919",
   "metadata": {},
   "outputs": [],
   "source": [
    "mon_resample=df2.resample('M')\n",
    "new_df=pd.DataFrame(mon_resample.mean())\n",
    "plt.figure(figsize=(15,7))\n",
    "\n",
    "plt.plot(new_df)"
   ]
  },
  {
   "cell_type": "code",
   "execution_count": null,
   "id": "89baab18",
   "metadata": {},
   "outputs": [],
   "source": [
    "len(new_df)"
   ]
  },
  {
   "cell_type": "code",
   "execution_count": null,
   "id": "f2d0b2ad",
   "metadata": {},
   "outputs": [],
   "source": [
    "from statsmodels.tsa.seasonal import seasonal_decompose"
   ]
  },
  {
   "cell_type": "code",
   "execution_count": null,
   "id": "61d51c8f",
   "metadata": {},
   "outputs": [],
   "source": [
    "#decomp=seasonal_decompose(new_df,period=12)\n",
    "decomp=seasonal_decompose(df2,period=12)"
   ]
  },
  {
   "cell_type": "code",
   "execution_count": null,
   "id": "7b06a9c1",
   "metadata": {},
   "outputs": [],
   "source": [
    "trend=decomp.trend\n",
    "seasonal=decomp.seasonal\n",
    "residual=decomp.resid"
   ]
  },
  {
   "cell_type": "code",
   "execution_count": null,
   "id": "41330f32",
   "metadata": {},
   "outputs": [],
   "source": [
    "fix,ax=plt.subplots(4,1,figsize=(20,10))\n",
    "plt.subplot(411)\n",
    "plt.plot(df2)\n",
    "\n",
    "plt.subplot(412)\n",
    "plt.plot(trend)\n",
    "\n",
    "plt.subplot(413)\n",
    "plt.plot(seasonal)\n",
    "\n",
    "plt.subplot(414)\n",
    "plt.plot(residual)\n",
    "plt.show()"
   ]
  },
  {
   "cell_type": "code",
   "execution_count": null,
   "id": "1484c946",
   "metadata": {},
   "outputs": [],
   "source": [
    "from statsmodels.tsa.api import ExponentialSmoothing\n",
    "alpha=0.2;beta=0.5;gamma=0.8"
   ]
  },
  {
   "cell_type": "code",
   "execution_count": null,
   "id": "46704531",
   "metadata": {},
   "outputs": [],
   "source": [
    "model_tep=ExponentialSmoothing(df2,trend='add',seasonal='add',seasonal_periods=365).fit(smoothing_level=alpha,smoothing_trend=beta,smoothing_seasonal=gamma)"
   ]
  },
  {
   "cell_type": "code",
   "execution_count": null,
   "id": "b4ff8215",
   "metadata": {},
   "outputs": [],
   "source": [
    "fcast_tep=model_tep.fittedvalues\n",
    "fcast_tep"
   ]
  },
  {
   "cell_type": "code",
   "execution_count": null,
   "id": "79e298e8",
   "metadata": {},
   "outputs": [],
   "source": [
    "plt.plot(df2,marker='o',color='black',label='Actual')\n",
    "plt.plot(fcast_tep, marker='.',color='blue',label='triple Exp Smoothing [0.2, 0.5,0.8]')\n",
    "plt.legend()\n",
    "plt.title('triple Exponent Smoothing')"
   ]
  },
  {
   "cell_type": "code",
   "execution_count": null,
   "id": "e6ea06ff",
   "metadata": {},
   "outputs": [],
   "source": [
    "from statsmodels.graphics.tsaplots import plot_acf,plot_pacf\n",
    "plot_acf(df2,lags=12)\n",
    "plot_pacf(df2,lags=12)\n",
    "plt.show()"
   ]
  },
  {
   "cell_type": "code",
   "execution_count": null,
   "id": "54f5e5bf",
   "metadata": {},
   "outputs": [],
   "source": [
    "p=9;q=12;d=1"
   ]
  },
  {
   "cell_type": "code",
   "execution_count": null,
   "id": "07fb60f0",
   "metadata": {},
   "outputs": [],
   "source": [
    "train_len=int(0.7*len(df2))\n",
    "train=df2.iloc[:train_len]\n",
    "test=df2.iloc[train_len:]"
   ]
  },
  {
   "cell_type": "code",
   "execution_count": null,
   "id": "ea9ab467",
   "metadata": {},
   "outputs": [],
   "source": [
    "print(len(train))\n",
    "print(len(test))"
   ]
  },
  {
   "cell_type": "code",
   "execution_count": null,
   "id": "ec021861",
   "metadata": {},
   "outputs": [],
   "source": [
    "import statsmodels\n",
    "from statsmodels.tsa.arima.model import ARIMA\n",
    "model1=ARIMA(train,order=(p,1,q)).fit()"
   ]
  },
  {
   "cell_type": "code",
   "execution_count": null,
   "id": "77fc6a55",
   "metadata": {},
   "outputs": [],
   "source": [
    "model1.summary()"
   ]
  },
  {
   "cell_type": "code",
   "execution_count": null,
   "id": "9b024d29",
   "metadata": {},
   "outputs": [],
   "source": [
    "p=np.arange(9)\n",
    "q=np.arange(12)\n",
    "li=[]\n",
    "for p in range(10):\n",
    "    for q in range(13):\n",
    "        li.append((p,1,q))"
   ]
  },
  {
   "cell_type": "code",
   "execution_count": null,
   "id": "a28aff34",
   "metadata": {},
   "outputs": [],
   "source": [
    "model=[]\n",
    "\n",
    "for i in li:\n",
    "    m=ARIMA(train,order=i).fit()\n",
    "    model.append(m)"
   ]
  },
  {
   "cell_type": "code",
   "execution_count": null,
   "id": "05de1c61",
   "metadata": {},
   "outputs": [],
   "source": [
    "import warnings\n",
    "warnings.filterwarnings('ignore')"
   ]
  },
  {
   "cell_type": "code",
   "execution_count": null,
   "id": "bef4be79",
   "metadata": {},
   "outputs": [],
   "source": [
    "from sklearn.metrics import mean_squared_error"
   ]
  },
  {
   "cell_type": "code",
   "execution_count": null,
   "id": "902a8e42",
   "metadata": {},
   "outputs": [],
   "source": [
    "aic=[]\n",
    "bic=[]\n",
    "mse=[]\n",
    "rmse=[]\n",
    "for i in model:\n",
    "    aic.append(i.aic)\n",
    "    bic.append(i.bic)\n",
    "    a=mean_squared_error(train,i.fittedvalues)\n",
    "    b=mean_squared_error(train,i.fittedvalues,squared=False)\n",
    "    mse.append(a)\n",
    "    rmse.append(b)"
   ]
  },
  {
   "cell_type": "code",
   "execution_count": null,
   "id": "08774a3c",
   "metadata": {},
   "outputs": [],
   "source": [
    "print(min(aic))\n",
    "print(min(bic))\n",
    "print(min(mse))\n",
    "print(min(rmse))"
   ]
  },
  {
   "cell_type": "code",
   "execution_count": null,
   "id": "fbcd73d6",
   "metadata": {},
   "outputs": [],
   "source": [
    "print(rmse.index(min(rmse)))"
   ]
  },
  {
   "cell_type": "code",
   "execution_count": null,
   "id": "e8461810",
   "metadata": {},
   "outputs": [],
   "source": [
    "print(li[116])"
   ]
  },
  {
   "cell_type": "code",
   "execution_count": null,
   "id": "4ec95685",
   "metadata": {},
   "outputs": [],
   "source": [
    "p=8;q=12"
   ]
  },
  {
   "cell_type": "code",
   "execution_count": null,
   "id": "28d5d8ab",
   "metadata": {},
   "outputs": [],
   "source": [
    "model_arma=ARIMA(train,order=(p,1,q)).fit()"
   ]
  },
  {
   "cell_type": "code",
   "execution_count": null,
   "id": "f47c3834",
   "metadata": {},
   "outputs": [],
   "source": [
    "fcast_arma=model_arma.fittedvalues\n",
    "fcast_arma"
   ]
  },
  {
   "cell_type": "code",
   "execution_count": null,
   "id": "7ff32e75",
   "metadata": {},
   "outputs": [],
   "source": [
    "model_arma.summary()"
   ]
  },
  {
   "cell_type": "code",
   "execution_count": null,
   "id": "8a23a3cd",
   "metadata": {},
   "outputs": [],
   "source": [
    "predictions=model_arma.predict(start=len(train),end=len(train)+len(test)-1)"
   ]
  },
  {
   "cell_type": "code",
   "execution_count": null,
   "id": "a7d95e78",
   "metadata": {},
   "outputs": [],
   "source": [
    "predictions"
   ]
  },
  {
   "cell_type": "code",
   "execution_count": null,
   "id": "a419e057",
   "metadata": {},
   "outputs": [],
   "source": [
    "fcast=model_arma.predict(start=len(df2),end=len(df2)+10)\n",
    "print(fcast)"
   ]
  },
  {
   "cell_type": "code",
   "execution_count": null,
   "id": "6612adc9",
   "metadata": {},
   "outputs": [],
   "source": [
    "plt.figure(figsize=(10,6))\n",
    "plt.plot(train,'r',label='predictions')\n",
    "plt.plot(fcast_arma,'b',label='actual')\n",
    "plt.legend()"
   ]
  },
  {
   "cell_type": "code",
   "execution_count": null,
   "id": "6e2797e7",
   "metadata": {},
   "outputs": [],
   "source": []
  },
  {
   "cell_type": "code",
   "execution_count": null,
   "id": "beee7866",
   "metadata": {},
   "outputs": [],
   "source": []
  },
  {
   "cell_type": "code",
   "execution_count": null,
   "id": "89eee5bd",
   "metadata": {},
   "outputs": [],
   "source": []
  },
  {
   "cell_type": "code",
   "execution_count": null,
   "id": "a3c6ff97",
   "metadata": {},
   "outputs": [],
   "source": []
  },
  {
   "cell_type": "code",
   "execution_count": null,
   "id": "9b96ee29",
   "metadata": {},
   "outputs": [],
   "source": []
  },
  {
   "cell_type": "code",
   "execution_count": null,
   "id": "f5dd135a",
   "metadata": {},
   "outputs": [],
   "source": []
  },
  {
   "cell_type": "code",
   "execution_count": null,
   "id": "3dcea525",
   "metadata": {},
   "outputs": [],
   "source": []
  },
  {
   "cell_type": "code",
   "execution_count": null,
   "id": "03665a72",
   "metadata": {},
   "outputs": [],
   "source": []
  }
 ],
 "metadata": {
  "kernelspec": {
   "display_name": "Python 3 (ipykernel)",
   "language": "python",
   "name": "python3"
  },
  "language_info": {
   "codemirror_mode": {
    "name": "ipython",
    "version": 3
   },
   "file_extension": ".py",
   "mimetype": "text/x-python",
   "name": "python",
   "nbconvert_exporter": "python",
   "pygments_lexer": "ipython3",
   "version": "3.9.12"
  }
 },
 "nbformat": 4,
 "nbformat_minor": 5
}
